{
  "nbformat": 4,
  "nbformat_minor": 0,
  "metadata": {
    "colab": {
      "name": "HW1_2.ipynb",
      "provenance": [],
      "collapsed_sections": [],
      "include_colab_link": true
    },
    "kernelspec": {
      "name": "python3",
      "display_name": "Python 3"
    },
    "language_info": {
      "name": "python"
    },
    "accelerator": "GPU"
  },
  "cells": [
    {
      "cell_type": "markdown",
      "metadata": {
        "id": "view-in-github",
        "colab_type": "text"
      },
      "source": [
        "<a href=\"https://colab.research.google.com/github/khee11/testrepository/blob/main/HW1_2.ipynb\" target=\"_parent\"><img src=\"https://colab.research.google.com/assets/colab-badge.svg\" alt=\"Open In Colab\"/></a>"
      ]
    },
    {
      "cell_type": "markdown",
      "source": [
        "## HW 1 \n",
        "tensorflow의 gradient tape 을 사용하여 아래 문제들을 풀어보세요\n",
        "\n",
        "EX)\n",
        "```\n",
        "input_var = tf.Variable(initial_value=3.)\n",
        "with tf.GradientTape() as tape:\n",
        "   result = tf.square(input_var)\n",
        "gradient = tape.gradient(result, input_var)\n",
        "```\n",
        "\n",
        "### Q1  $y = x^2 + 3x + 1$ 의 수식을  $x$ (a scalar variable) 에 대해 미분해보세요."
      ],
      "metadata": {
        "id": "OwBySVVU5h6M"
      }
    },
    {
      "cell_type": "code",
      "execution_count": null,
      "metadata": {
        "id": "aZSgHuiR5W1k",
        "colab": {
          "base_uri": "https://localhost:8080/"
        },
        "outputId": "11863635-4276-4c36-b47c-8ccf8cc97422"
      },
      "outputs": [
        {
          "output_type": "stream",
          "name": "stdout",
          "text": [
            "x= 3.0 일 때 x에 대한 미분값은 9.0\n"
          ]
        }
      ],
      "source": [
        "import tensorflow as tf\n",
        "x = tf.Variable(initial_value=3.)\n",
        "with tf.GradientTape() as tape:\n",
        "  y = tf.square(x) + 3*x + 1\n",
        "gradient = tape.gradient(y, x)\n",
        "\n",
        "print(\"x=\",x.numpy(),\"일 때 x에 대한 미분값은\", gradient.numpy())"
      ]
    },
    {
      "cell_type": "markdown",
      "source": [
        "### Q2 $y = X^3 + 3X + 5$ 의 수식을  $X$ (a 2 by 2 matrix variable) 에 대해 미분해보세요."
      ],
      "metadata": {
        "id": "qEqK8L1k6PSd"
      }
    },
    {
      "cell_type": "code",
      "source": [
        "import tensorflow as tf\n",
        "x = tf.Variable(initial_value=[(3.,2.),(1.,2.)])\n",
        "with tf.GradientTape() as tape:\n",
        "  y = tf.matmul(tf.matmul(x,x),x) + 3*x + 5\n",
        "gradient = tape.gradient(y, x)\n",
        "\n",
        "print(\"x = \\n\",x.numpy(),\"일 때 \\n X에 대한 미분값은 \\n\", gradient.numpy())"
      ],
      "metadata": {
        "id": "WKvVq8pQ6YNt",
        "colab": {
          "base_uri": "https://localhost:8080/"
        },
        "outputId": "5b2bc54c-6390-41cf-b304-610eae70aa47"
      },
      "execution_count": null,
      "outputs": [
        {
          "output_type": "stream",
          "name": "stdout",
          "text": [
            "x = \n",
            " [[3. 2.]\n",
            " [1. 2.]] 일 때 \n",
            " X에 대한 미분값은 \n",
            " [[60. 42.]\n",
            " [60. 42.]]\n"
          ]
        }
      ]
    },
    {
      "cell_type": "markdown",
      "source": [
        "### Q3 $z = X^3 y^2 + 3X + 2yX + 1$ 의 수식을  $X$ (a 2 by 2 matrix variable)와 $y$ (a scalar variable) 에 대해 미분해보세요."
      ],
      "metadata": {
        "id": "AFsXMZmW6e6F"
      }
    },
    {
      "cell_type": "code",
      "source": [
        "import tensorflow as tf\n",
        "x = tf.Variable(initial_value=[(3.,2.),(1.,2.)])\n",
        "y = tf.Variable(initial_value=3.)\n",
        "\n",
        "with tf.GradientTape() as tape:\n",
        "  z = tf.matmul(tf.matmul(x,x),x)*tf.square(y) + 3*x + 2*x*y + 1\n",
        "gradient_x = tape.gradient(z, x).numpy()\n",
        "\n",
        "with tf.GradientTape() as tape:\n",
        "  z = tf.matmul(tf.matmul(x,x),x)*tf.square(y) + 3*x + 2*x*y + 1\n",
        "gradient_y = tape.gradient(z, y).numpy()\n",
        "\n",
        "print(\"x = \\n\",x.numpy(),\"일 때 \\n X에 대한 미분값 : \", \"\\n\", gradient_x, \"\\n\", \"y에 대한 미분값 : \\n\", gradient_y)"
      ],
      "metadata": {
        "colab": {
          "base_uri": "https://localhost:8080/"
        },
        "id": "qyRK6JQBtl0o",
        "outputId": "b30a86b8-bc00-473c-b177-a4d56b17ad8a"
      },
      "execution_count": null,
      "outputs": [
        {
          "output_type": "stream",
          "name": "stdout",
          "text": [
            "x = \n",
            " [[3. 2.]\n",
            " [1. 2.]] 일 때 \n",
            " X에 대한 미분값 :  \n",
            " [[522. 360.]\n",
            " [522. 360.]] \n",
            " y에 대한 미분값 : \n",
            " 784.0\n"
          ]
        }
      ]
    },
    {
      "cell_type": "markdown",
      "source": [
        "### 아래 코드는 수업시간에 배운 예제 코드입니다. 코드를 참고하여 문제들을 풀어보세요."
      ],
      "metadata": {
        "id": "jvkjYY0lgItO"
      }
    },
    {
      "cell_type": "code",
      "source": [
        "from tensorflow.keras.datasets import imdb\n",
        "(train_data, train_labels), (test_data, test_labels) = imdb.load_data(\n",
        "    num_words=10000)"
      ],
      "metadata": {
        "id": "mXXKBxo36kPl",
        "outputId": "11588a61-c74c-47c3-b66f-2765e7a37b04",
        "colab": {
          "base_uri": "https://localhost:8080/"
        }
      },
      "execution_count": 1,
      "outputs": [
        {
          "output_type": "stream",
          "name": "stdout",
          "text": [
            "Downloading data from https://storage.googleapis.com/tensorflow/tf-keras-datasets/imdb.npz\n",
            "17465344/17464789 [==============================] - 0s 0us/step\n",
            "17473536/17464789 [==============================] - 0s 0us/step\n"
          ]
        }
      ]
    },
    {
      "cell_type": "code",
      "source": [
        "import numpy as np\n",
        "def vectorize_sequences(sequences, dimension=10000):\n",
        "    results = np.zeros((len(sequences), dimension))\n",
        "    for i, sequence in enumerate(sequences):\n",
        "        for j in sequence:\n",
        "            results[i, j] = 1.\n",
        "    return results\n",
        "x_train = vectorize_sequences(train_data)\n",
        "x_test = vectorize_sequences(test_data)"
      ],
      "metadata": {
        "id": "0XgpA2VJgL4u"
      },
      "execution_count": 2,
      "outputs": []
    },
    {
      "cell_type": "code",
      "source": [
        "y_train = np.asarray(train_labels).astype(\"float32\")\n",
        "y_test = np.asarray(test_labels).astype(\"float32\")"
      ],
      "metadata": {
        "id": "uQz7BrwygPOY"
      },
      "execution_count": 3,
      "outputs": []
    },
    {
      "cell_type": "code",
      "source": [
        "from tensorflow import keras\n",
        "from tensorflow.keras import layers\n",
        "\n",
        "model = keras.Sequential([\n",
        "    layers.Dense(16, activation=\"relu\"),\n",
        "    layers.Dense(16, activation=\"relu\"),\n",
        "    layers.Dense(1, activation=\"sigmoid\")\n",
        "])"
      ],
      "metadata": {
        "id": "ZNsEKqmjgRrL"
      },
      "execution_count": 4,
      "outputs": []
    },
    {
      "cell_type": "code",
      "source": [
        "model.compile(optimizer=\"rmsprop\",\n",
        "              loss=\"binary_crossentropy\",\n",
        "              metrics=[\"accuracy\"])"
      ],
      "metadata": {
        "id": "3CB4h64bgUOn"
      },
      "execution_count": 5,
      "outputs": []
    },
    {
      "cell_type": "code",
      "source": [
        "x_val = x_train[:10000]\n",
        "partial_x_train = x_train[10000:]\n",
        "y_val = y_train[:10000]\n",
        "partial_y_train = y_train[10000:]"
      ],
      "metadata": {
        "id": "dj4wjxbVgb6R"
      },
      "execution_count": 6,
      "outputs": []
    },
    {
      "cell_type": "code",
      "source": [
        "history = model.fit(partial_x_train,\n",
        "                    partial_y_train,\n",
        "                    epochs=20,\n",
        "                    batch_size=512,\n",
        "                    validation_data=(x_val, y_val))"
      ],
      "metadata": {
        "colab": {
          "base_uri": "https://localhost:8080/"
        },
        "id": "ei6PKGUOgfqz",
        "outputId": "87170963-5ac2-4adf-88b1-f7929ba9081f"
      },
      "execution_count": 7,
      "outputs": [
        {
          "output_type": "stream",
          "name": "stdout",
          "text": [
            "Epoch 1/20\n",
            "30/30 [==============================] - 6s 45ms/step - loss: 0.5048 - accuracy: 0.7877 - val_loss: 0.3825 - val_accuracy: 0.8695\n",
            "Epoch 2/20\n",
            "30/30 [==============================] - 1s 22ms/step - loss: 0.3046 - accuracy: 0.9029 - val_loss: 0.3080 - val_accuracy: 0.8838\n",
            "Epoch 3/20\n",
            "30/30 [==============================] - 1s 25ms/step - loss: 0.2241 - accuracy: 0.9258 - val_loss: 0.3060 - val_accuracy: 0.8758\n",
            "Epoch 4/20\n",
            "30/30 [==============================] - 1s 25ms/step - loss: 0.1767 - accuracy: 0.9425 - val_loss: 0.2763 - val_accuracy: 0.8895\n",
            "Epoch 5/20\n",
            "30/30 [==============================] - 1s 22ms/step - loss: 0.1407 - accuracy: 0.9565 - val_loss: 0.2997 - val_accuracy: 0.8834\n",
            "Epoch 6/20\n",
            "30/30 [==============================] - 1s 25ms/step - loss: 0.1186 - accuracy: 0.9631 - val_loss: 0.2950 - val_accuracy: 0.8847\n",
            "Epoch 7/20\n",
            "30/30 [==============================] - 1s 25ms/step - loss: 0.0990 - accuracy: 0.9704 - val_loss: 0.3485 - val_accuracy: 0.8688\n",
            "Epoch 8/20\n",
            "30/30 [==============================] - 1s 22ms/step - loss: 0.0821 - accuracy: 0.9766 - val_loss: 0.3345 - val_accuracy: 0.8791\n",
            "Epoch 9/20\n",
            "30/30 [==============================] - 1s 22ms/step - loss: 0.0661 - accuracy: 0.9825 - val_loss: 0.3531 - val_accuracy: 0.8791\n",
            "Epoch 10/20\n",
            "30/30 [==============================] - 1s 22ms/step - loss: 0.0527 - accuracy: 0.9878 - val_loss: 0.4068 - val_accuracy: 0.8730\n",
            "Epoch 11/20\n",
            "30/30 [==============================] - 1s 25ms/step - loss: 0.0420 - accuracy: 0.9907 - val_loss: 0.4125 - val_accuracy: 0.8724\n",
            "Epoch 12/20\n",
            "30/30 [==============================] - 1s 25ms/step - loss: 0.0360 - accuracy: 0.9915 - val_loss: 0.4712 - val_accuracy: 0.8715\n",
            "Epoch 13/20\n",
            "30/30 [==============================] - 1s 22ms/step - loss: 0.0250 - accuracy: 0.9953 - val_loss: 0.4800 - val_accuracy: 0.8691\n",
            "Epoch 14/20\n",
            "30/30 [==============================] - 1s 22ms/step - loss: 0.0201 - accuracy: 0.9960 - val_loss: 0.5134 - val_accuracy: 0.8709\n",
            "Epoch 15/20\n",
            "30/30 [==============================] - 1s 25ms/step - loss: 0.0175 - accuracy: 0.9964 - val_loss: 0.5435 - val_accuracy: 0.8690\n",
            "Epoch 16/20\n",
            "30/30 [==============================] - 1s 22ms/step - loss: 0.0136 - accuracy: 0.9981 - val_loss: 0.5747 - val_accuracy: 0.8679\n",
            "Epoch 17/20\n",
            "30/30 [==============================] - 1s 23ms/step - loss: 0.0070 - accuracy: 0.9997 - val_loss: 0.6278 - val_accuracy: 0.8683\n",
            "Epoch 18/20\n",
            "30/30 [==============================] - 1s 22ms/step - loss: 0.0104 - accuracy: 0.9982 - val_loss: 0.6419 - val_accuracy: 0.8669\n",
            "Epoch 19/20\n",
            "30/30 [==============================] - 1s 22ms/step - loss: 0.0041 - accuracy: 0.9999 - val_loss: 0.6775 - val_accuracy: 0.8642\n",
            "Epoch 20/20\n",
            "30/30 [==============================] - 1s 21ms/step - loss: 0.0070 - accuracy: 0.9985 - val_loss: 0.7123 - val_accuracy: 0.8666\n"
          ]
        }
      ]
    },
    {
      "cell_type": "code",
      "source": [
        "import matplotlib.pyplot as plt\n",
        "history_dict = history.history\n",
        "loss_values = history_dict[\"loss\"]\n",
        "val_loss_values = history_dict[\"val_loss\"]\n",
        "epochs = range(1, len(loss_values) + 1)\n",
        "plt.plot(epochs, loss_values, \"bo\", label=\"Training loss\")\n",
        "plt.plot(epochs, val_loss_values, \"b\", label=\"Validation loss\")\n",
        "plt.title(\"Training and validation loss\")\n",
        "plt.xlabel(\"Epochs\")\n",
        "plt.ylabel(\"Loss\")\n",
        "plt.legend()\n",
        "plt.show()"
      ],
      "metadata": {
        "colab": {
          "base_uri": "https://localhost:8080/",
          "height": 295
        },
        "id": "jZfkb3JIhGGd",
        "outputId": "bea7581d-9850-4a37-9fc4-52b60e7f89da"
      },
      "execution_count": 8,
      "outputs": [
        {
          "output_type": "display_data",
          "data": {
            "text/plain": [
              "<Figure size 432x288 with 1 Axes>"
            ],
            "image/png": "[encoded data removed]"
          },
          "metadata": {
            "needs_background": "light"
          }
        }
      ]
    },
    {
      "cell_type": "code",
      "source": [
        "model = keras.Sequential([\n",
        "    layers.Dense(16, activation=\"relu\"),\n",
        "    layers.Dense(16, activation=\"relu\"),\n",
        "    layers.Dense(1, activation=\"sigmoid\")\n",
        "])\n",
        "model.compile(optimizer=\"rmsprop\",\n",
        "              loss=\"binary_crossentropy\",\n",
        "              metrics=[\"accuracy\"])\n",
        "model.fit(x_train, y_train, epochs=4, batch_size=512)\n",
        "results = model.evaluate(x_test, y_test)"
      ],
      "metadata": {
        "colab": {
          "base_uri": "https://localhost:8080/"
        },
        "id": "OmZqSp4jhMUR",
        "outputId": "a8c03550-3a4a-43e0-e413-5853c87116b4"
      },
      "execution_count": 9,
      "outputs": [
        {
          "output_type": "stream",
          "name": "stdout",
          "text": [
            "Epoch 1/4\n",
            "49/49 [==============================] - 1s 13ms/step - loss: 0.4695 - accuracy: 0.8154\n",
            "Epoch 2/4\n",
            "49/49 [==============================] - 1s 13ms/step - loss: 0.2620 - accuracy: 0.9099\n",
            "Epoch 3/4\n",
            "49/49 [==============================] - 1s 14ms/step - loss: 0.1997 - accuracy: 0.9276\n",
            "Epoch 4/4\n",
            "49/49 [==============================] - 1s 13ms/step - loss: 0.1665 - accuracy: 0.9418\n",
            "782/782 [==============================] - 3s 4ms/step - loss: 0.2958 - accuracy: 0.8822\n"
          ]
        }
      ]
    },
    {
      "cell_type": "markdown",
      "source": [
        "### Q4 모델에 hidden layer(dense layer)들을 늘려서 evaluation 결과를 확인해보세요. (2번째 트레이닝 때의 epoch 갯수는 상황에 맞게 조절해주세요.)"
      ],
      "metadata": {
        "id": "7f7ckxDAg4cX"
      }
    },
    {
      "cell_type": "code",
      "source": [
        "from tensorflow.keras.datasets import imdb\n",
        "(train_data, train_labels), (test_data, test_labels) = imdb.load_data(\n",
        "    num_words=10000)\n",
        "\n",
        "import numpy as np\n",
        "def vectorize_sequences(sequences, dimension=10000):\n",
        "    results = np.zeros((len(sequences), dimension))\n",
        "    for i, sequence in enumerate(sequences):\n",
        "        for j in sequence:\n",
        "            results[i, j] = 1.\n",
        "    return results\n",
        "x_train = vectorize_sequences(train_data)\n",
        "x_test = vectorize_sequences(test_data)\n",
        "\n",
        "y_train = np.asarray(train_labels).astype(\"float32\")\n",
        "y_test = np.asarray(test_labels).astype(\"float32\")\n",
        "\n",
        "x_val = x_train[:10000]\n",
        "partial_x_train = x_train[10000:]\n",
        "y_val = y_train[:10000]\n",
        "partial_y_train = y_train[10000:]"
      ],
      "metadata": {
        "id": "phkW1vdGFeYO"
      },
      "execution_count": 10,
      "outputs": []
    },
    {
      "cell_type": "code",
      "source": [
        "from tensorflow import keras\n",
        "from tensorflow.keras import layers\n",
        "\n",
        "model2 = keras.Sequential([\n",
        "    layers.Dense(16, activation=\"relu\"),\n",
        "    layers.Dense(16, activation=\"relu\"),\n",
        "    layers.Dense(16, activation=\"relu\"),\n",
        "    layers.Dense(1, activation=\"sigmoid\")\n",
        "])\n",
        "\n",
        "model2.compile(optimizer=\"rmsprop\",\n",
        "              loss=\"binary_crossentropy\",\n",
        "              metrics=[\"accuracy\"])\n",
        "\n",
        "history2 = model2.fit(partial_x_train,\n",
        "                    partial_y_train,\n",
        "                    epochs=10,\n",
        "                    batch_size=512,\n",
        "                    validation_data=(x_val, y_val))\n",
        "\n",
        "import matplotlib.pyplot as plt\n",
        "history_dict = history2.history\n",
        "loss_values = history_dict[\"loss\"]\n",
        "val_loss_values = history_dict[\"val_loss\"]\n",
        "epochs = range(1, len(loss_values) + 1)\n",
        "plt.plot(epochs, loss_values, \"bo\", label=\"Training loss\")\n",
        "plt.plot(epochs, val_loss_values, \"b\", color=\"red\", label=\"Validation loss\")\n",
        "plt.title(\"Training and validation loss\")\n",
        "plt.xlabel(\"Epochs\")\n",
        "plt.ylabel(\"Loss\")\n",
        "plt.legend()\n",
        "plt.show()"
      ],
      "metadata": {
        "colab": {
          "base_uri": "https://localhost:8080/",
          "height": 658
        },
        "id": "PFLGILPhxjDh",
        "outputId": "2524a2d4-7b33-4d2a-9399-4cbd35af55e2"
      },
      "execution_count": 11,
      "outputs": [
        {
          "output_type": "stream",
          "name": "stdout",
          "text": [
            "Epoch 1/10\n",
            "30/30 [==============================] - 2s 50ms/step - loss: 0.5164 - accuracy: 0.7831 - val_loss: 0.3811 - val_accuracy: 0.8704\n",
            "Epoch 2/10\n",
            "30/30 [==============================] - 1s 21ms/step - loss: 0.2986 - accuracy: 0.9008 - val_loss: 0.3070 - val_accuracy: 0.8797\n",
            "Epoch 3/10\n",
            "30/30 [==============================] - 1s 25ms/step - loss: 0.2117 - accuracy: 0.9265 - val_loss: 0.3036 - val_accuracy: 0.8765\n",
            "Epoch 4/10\n",
            "30/30 [==============================] - 1s 23ms/step - loss: 0.1637 - accuracy: 0.9443 - val_loss: 0.3010 - val_accuracy: 0.8824\n",
            "Epoch 5/10\n",
            "30/30 [==============================] - 1s 22ms/step - loss: 0.1325 - accuracy: 0.9559 - val_loss: 0.3358 - val_accuracy: 0.8729\n",
            "Epoch 6/10\n",
            "30/30 [==============================] - 1s 25ms/step - loss: 0.1074 - accuracy: 0.9648 - val_loss: 0.3131 - val_accuracy: 0.8859\n",
            "Epoch 7/10\n",
            "30/30 [==============================] - 1s 22ms/step - loss: 0.0844 - accuracy: 0.9729 - val_loss: 0.3360 - val_accuracy: 0.8798\n",
            "Epoch 8/10\n",
            "30/30 [==============================] - 1s 21ms/step - loss: 0.0687 - accuracy: 0.9795 - val_loss: 0.3654 - val_accuracy: 0.8820\n",
            "Epoch 9/10\n",
            "30/30 [==============================] - 1s 23ms/step - loss: 0.0538 - accuracy: 0.9845 - val_loss: 0.3964 - val_accuracy: 0.8789\n",
            "Epoch 10/10\n",
            "30/30 [==============================] - 1s 23ms/step - loss: 0.0388 - accuracy: 0.9907 - val_loss: 0.4458 - val_accuracy: 0.8700\n"
          ]
        },
        {
          "output_type": "display_data",
          "data": {
            "text/plain": [
              "<Figure size 432x288 with 1 Axes>"
            ],
            "image/png": "[encoded data removed]"
          },
          "metadata": {
            "needs_background": "light"
          }
        }
      ]
    },
    {
      "cell_type": "code",
      "source": [
        "# epoch=4일 때 val_loss가 가장 작음\n",
        "\n",
        "model2 = keras.Sequential([\n",
        "    layers.Dense(16, activation=\"relu\"),\n",
        "    layers.Dense(16, activation=\"relu\"),\n",
        "    layers.Dense(16, activation=\"relu\"),\n",
        "    layers.Dense(1, activation=\"sigmoid\")\n",
        "])\n",
        "\n",
        "model2.compile(optimizer=\"rmsprop\",\n",
        "              loss=\"binary_crossentropy\",\n",
        "              metrics=[\"accuracy\"])\n",
        "\n",
        "model2.fit(x_train, y_train, epochs=4, batch_size=512)\n",
        "results2 = model2.evaluate(x_test, y_test)\n",
        "print(results2, \"\\n loss diff = \", round(results2[0] - results[0], 4), \n",
        "      \"accuracy diff = \", round(results2[1]-results[1],4))"
      ],
      "metadata": {
        "id": "tSHRveYqHJD2",
        "outputId": "a7f5b5b1-9461-4b4d-e8a9-95f7d2cb2f12",
        "colab": {
          "base_uri": "https://localhost:8080/"
        }
      },
      "execution_count": 12,
      "outputs": [
        {
          "output_type": "stream",
          "name": "stdout",
          "text": [
            "Epoch 1/4\n",
            "49/49 [==============================] - 3s 18ms/step - loss: 0.4494 - accuracy: 0.8152\n",
            "Epoch 2/4\n",
            "49/49 [==============================] - 1s 20ms/step - loss: 0.2496 - accuracy: 0.9116\n",
            "Epoch 3/4\n",
            "49/49 [==============================] - 1s 18ms/step - loss: 0.1930 - accuracy: 0.9299\n",
            "Epoch 4/4\n",
            "49/49 [==============================] - 1s 18ms/step - loss: 0.1591 - accuracy: 0.9436\n",
            "782/782 [==============================] - 3s 4ms/step - loss: 0.3177 - accuracy: 0.8772\n",
            "[0.31768402457237244, 0.8771600127220154] \n",
            " loss diff =  0.0218 accuracy diff =  -0.005\n"
          ]
        }
      ]
    },
    {
      "cell_type": "markdown",
      "source": [
        "Loss는 예제 코드보다 0.0218 증가, accuracy는 0.005 감소"
      ],
      "metadata": {
        "id": "H0nUMG1wpcIb"
      }
    },
    {
      "cell_type": "markdown",
      "source": [
        "### Q5 Dense layer 들의 output 차원을 16에서 32이로 증가시켜본 후 evaluation 결과를 확인해보세요. (2번째 트레이닝 때의 epoch 갯수는 상황에 맞게 조절해주세요.)"
      ],
      "metadata": {
        "id": "qHQyH8iHhhJb"
      }
    },
    {
      "cell_type": "code",
      "source": [
        "from tensorflow import keras\n",
        "from tensorflow.keras import layers\n",
        "\n",
        "model3 = keras.Sequential([\n",
        "    layers.Dense(32, activation=\"relu\"),\n",
        "    layers.Dense(32, activation=\"relu\"),\n",
        "    layers.Dense(1, activation=\"sigmoid\")\n",
        "])\n",
        "\n",
        "model3.compile(optimizer=\"rmsprop\",\n",
        "              loss=\"binary_crossentropy\",\n",
        "              metrics=[\"accuracy\"])\n",
        "\n",
        "history3 = model3.fit(partial_x_train,\n",
        "                    partial_y_train,\n",
        "                    epochs=10,\n",
        "                    batch_size=512,\n",
        "                    validation_data=(x_val, y_val))\n",
        "\n",
        "import matplotlib.pyplot as plt\n",
        "history_dict = history3.history\n",
        "loss_values = history_dict[\"loss\"]\n",
        "val_loss_values = history_dict[\"val_loss\"]\n",
        "epochs = range(1, len(loss_values) + 1)\n",
        "plt.plot(epochs, loss_values, \"bo\", label=\"Training loss\")\n",
        "plt.plot(epochs, val_loss_values, \"b\", color=\"red\", label=\"Validation loss\")\n",
        "plt.title(\"Training and validation loss\")\n",
        "plt.xlabel(\"Epochs\")\n",
        "plt.ylabel(\"Loss\")\n",
        "plt.legend()\n",
        "plt.show()"
      ],
      "metadata": {
        "id": "EAzUUb1gLo-X",
        "outputId": "54428ca6-a6a9-4122-cd91-4d2327db4462",
        "colab": {
          "base_uri": "https://localhost:8080/",
          "height": 658
        }
      },
      "execution_count": 13,
      "outputs": [
        {
          "output_type": "stream",
          "name": "stdout",
          "text": [
            "Epoch 1/10\n",
            "30/30 [==============================] - 2s 40ms/step - loss: 0.4920 - accuracy: 0.7755 - val_loss: 0.4071 - val_accuracy: 0.8298\n",
            "Epoch 2/10\n",
            "30/30 [==============================] - 1s 24ms/step - loss: 0.2840 - accuracy: 0.8985 - val_loss: 0.2952 - val_accuracy: 0.8827\n",
            "Epoch 3/10\n",
            "30/30 [==============================] - 1s 23ms/step - loss: 0.2063 - accuracy: 0.9295 - val_loss: 0.3120 - val_accuracy: 0.8753\n",
            "Epoch 4/10\n",
            "30/30 [==============================] - 1s 21ms/step - loss: 0.1569 - accuracy: 0.9469 - val_loss: 0.2939 - val_accuracy: 0.8831\n",
            "Epoch 5/10\n",
            "30/30 [==============================] - 1s 25ms/step - loss: 0.1235 - accuracy: 0.9603 - val_loss: 0.3021 - val_accuracy: 0.8830\n",
            "Epoch 6/10\n",
            "30/30 [==============================] - 1s 21ms/step - loss: 0.0975 - accuracy: 0.9689 - val_loss: 0.3976 - val_accuracy: 0.8634\n",
            "Epoch 7/10\n",
            "30/30 [==============================] - 1s 22ms/step - loss: 0.0788 - accuracy: 0.9751 - val_loss: 0.4466 - val_accuracy: 0.8601\n",
            "Epoch 8/10\n",
            "30/30 [==============================] - 1s 21ms/step - loss: 0.0684 - accuracy: 0.9788 - val_loss: 0.3802 - val_accuracy: 0.8801\n",
            "Epoch 9/10\n",
            "30/30 [==============================] - 1s 22ms/step - loss: 0.0530 - accuracy: 0.9841 - val_loss: 0.4064 - val_accuracy: 0.8734\n",
            "Epoch 10/10\n",
            "30/30 [==============================] - 1s 24ms/step - loss: 0.0469 - accuracy: 0.9857 - val_loss: 0.4326 - val_accuracy: 0.8761\n"
          ]
        },
        {
          "output_type": "display_data",
          "data": {
            "text/plain": [
              "<Figure size 432x288 with 1 Axes>"
            ],
            "image/png": "[encoded data removed]"
          },
          "metadata": {
            "needs_background": "light"
          }
        }
      ]
    },
    {
      "cell_type": "code",
      "source": [
        "# epoch=4일 때 val_loss가 가장 작음\n",
        "\n",
        "model3 = keras.Sequential([\n",
        "    layers.Dense(32, activation=\"relu\"),\n",
        "    layers.Dense(32, activation=\"relu\"),\n",
        "    layers.Dense(1, activation=\"sigmoid\")\n",
        "])\n",
        "\n",
        "model3.compile(optimizer=\"rmsprop\",\n",
        "              loss=\"binary_crossentropy\",\n",
        "              metrics=[\"accuracy\"])\n",
        "\n",
        "model3.fit(x_train, y_train, epochs=4, batch_size=512)\n",
        "results3 = model3.evaluate(x_test, y_test)\n",
        "print(results3, \"\\n loss diff = \", round(results3[0] - results[0], 4), \n",
        "      \"accuracy diff = \", round(results3[1]-results[1],4))"
      ],
      "metadata": {
        "id": "FWG8Ybr8L0vZ",
        "outputId": "a9858a39-8981-4268-e80c-6260e4d69dcc",
        "colab": {
          "base_uri": "https://localhost:8080/"
        }
      },
      "execution_count": 14,
      "outputs": [
        {
          "output_type": "stream",
          "name": "stdout",
          "text": [
            "Epoch 1/4\n",
            "49/49 [==============================] - 3s 23ms/step - loss: 0.4299 - accuracy: 0.8175\n",
            "Epoch 2/4\n",
            "49/49 [==============================] - 1s 18ms/step - loss: 0.2426 - accuracy: 0.9099\n",
            "Epoch 3/4\n",
            "49/49 [==============================] - 1s 17ms/step - loss: 0.1895 - accuracy: 0.9300\n",
            "Epoch 4/4\n",
            "49/49 [==============================] - 1s 19ms/step - loss: 0.1590 - accuracy: 0.9411\n",
            "782/782 [==============================] - 3s 4ms/step - loss: 0.3696 - accuracy: 0.8612\n",
            "[0.3696386218070984, 0.861240029335022] \n",
            " loss diff =  0.0738 accuracy diff =  -0.021\n"
          ]
        }
      ]
    },
    {
      "cell_type": "markdown",
      "source": [
        "Loss는 예제 코드보다 0.0738 증가, accuracy는 0.021 감소"
      ],
      "metadata": {
        "id": "sANtRCRppXVy"
      }
    },
    {
      "cell_type": "markdown",
      "source": [
        "### Q6 모형을 조금씩 바꿔보면서 성능을 확인해보고, 좋아 보이는 모형하나를 제안해주세요. "
      ],
      "metadata": {
        "id": "0_NhIm-Ph5d1"
      }
    },
    {
      "cell_type": "code",
      "source": [
        "from tensorflow import keras\n",
        "from tensorflow.keras import layers\n",
        "\n",
        "model4 = keras.Sequential([\n",
        "    layers.Dense(16, activation=\"relu\"),\n",
        "    layers.Dense(16, activation=\"relu\"), \n",
        "    layers.Dense(8, activation=\"relu\"), \n",
        "    layers.Dense(1, activation=\"sigmoid\")\n",
        "])\n",
        "\n",
        "model4.compile(optimizer=\"rmsprop\",\n",
        "              loss=\"binary_crossentropy\",\n",
        "              metrics=[\"accuracy\"])\n",
        "\n",
        "history4 = model4.fit(partial_x_train,\n",
        "                    partial_y_train,\n",
        "                    epochs=10,\n",
        "                    batch_size=512,\n",
        "                    validation_data=(x_val, y_val))\n",
        "\n",
        "import matplotlib.pyplot as plt\n",
        "history_dict = history4.history\n",
        "loss_values = history_dict[\"loss\"]\n",
        "val_loss_values = history_dict[\"val_loss\"]\n",
        "epochs = range(1, len(loss_values) + 1)\n",
        "plt.plot(epochs, loss_values, \"bo\", label=\"Training loss\")\n",
        "plt.plot(epochs, val_loss_values, \"b\", color=\"red\", label=\"Validation loss\")\n",
        "plt.title(\"Training and validation loss\")\n",
        "plt.xlabel(\"Epochs\")\n",
        "plt.ylabel(\"Loss\")\n",
        "plt.legend()\n",
        "plt.show()"
      ],
      "metadata": {
        "id": "p1KHUihxzFvS",
        "outputId": "b7b1cbdd-9c73-464d-ec09-1470a7e75675",
        "colab": {
          "base_uri": "https://localhost:8080/",
          "height": 658
        }
      },
      "execution_count": 15,
      "outputs": [
        {
          "output_type": "stream",
          "name": "stdout",
          "text": [
            "Epoch 1/10\n",
            "30/30 [==============================] - 2s 41ms/step - loss: 0.5960 - accuracy: 0.7157 - val_loss: 0.4966 - val_accuracy: 0.8296\n",
            "Epoch 2/10\n",
            "30/30 [==============================] - 1s 26ms/step - loss: 0.4061 - accuracy: 0.8861 - val_loss: 0.3743 - val_accuracy: 0.8642\n",
            "Epoch 3/10\n",
            "30/30 [==============================] - 1s 26ms/step - loss: 0.2751 - accuracy: 0.9235 - val_loss: 0.3348 - val_accuracy: 0.8725\n",
            "Epoch 4/10\n",
            "30/30 [==============================] - 1s 23ms/step - loss: 0.2065 - accuracy: 0.9373 - val_loss: 0.2881 - val_accuracy: 0.8891\n",
            "Epoch 5/10\n",
            "30/30 [==============================] - 1s 22ms/step - loss: 0.1605 - accuracy: 0.9534 - val_loss: 0.2968 - val_accuracy: 0.8850\n",
            "Epoch 6/10\n",
            "30/30 [==============================] - 1s 22ms/step - loss: 0.1285 - accuracy: 0.9627 - val_loss: 0.3085 - val_accuracy: 0.8842\n",
            "Epoch 7/10\n",
            "30/30 [==============================] - 1s 23ms/step - loss: 0.1054 - accuracy: 0.9703 - val_loss: 0.3155 - val_accuracy: 0.8849\n",
            "Epoch 8/10\n",
            "30/30 [==============================] - 1s 22ms/step - loss: 0.0866 - accuracy: 0.9769 - val_loss: 0.4332 - val_accuracy: 0.8615\n",
            "Epoch 9/10\n",
            "30/30 [==============================] - 1s 26ms/step - loss: 0.0719 - accuracy: 0.9813 - val_loss: 0.3672 - val_accuracy: 0.8828\n",
            "Epoch 10/10\n",
            "30/30 [==============================] - 1s 22ms/step - loss: 0.0583 - accuracy: 0.9861 - val_loss: 0.4853 - val_accuracy: 0.8632\n"
          ]
        },
        {
          "output_type": "display_data",
          "data": {
            "text/plain": [
              "<Figure size 432x288 with 1 Axes>"
            ],
            "image/png": "[encoded data removed]"
          },
          "metadata": {
            "needs_background": "light"
          }
        }
      ]
    },
    {
      "cell_type": "code",
      "source": [
        "# epoch=4일 때 val_loss가 가장 작음\n",
        "\n",
        "from tensorflow import keras\n",
        "from tensorflow.keras import layers\n",
        "\n",
        "model4 = keras.Sequential([\n",
        "    layers.Dense(16, activation=\"relu\"),\n",
        "    layers.Dense(16, activation=\"relu\"), \n",
        "    layers.Dense(8, activation=\"relu\"), \n",
        "    layers.Dense(1, activation=\"sigmoid\")\n",
        "])\n",
        "\n",
        "model4.compile(optimizer=\"rmsprop\",\n",
        "              loss=\"binary_crossentropy\",\n",
        "              metrics=[\"accuracy\"])\n",
        "\n",
        "model4.fit(x_train, y_train, epochs=4, batch_size=512)\n",
        "results4 = model4.evaluate(x_test, y_test)\n",
        "print(results4, \"\\n loss diff = \", round(results4[0] - results[0], 4), \n",
        "      \"accuracy diff = \", round(results4[1]-results[1],4))"
      ],
      "metadata": {
        "id": "a-mTZL7ugsth",
        "outputId": "eac2ce76-db1b-4dce-8e73-116cdae03cbe",
        "colab": {
          "base_uri": "https://localhost:8080/"
        }
      },
      "execution_count": 16,
      "outputs": [
        {
          "output_type": "stream",
          "name": "stdout",
          "text": [
            "Epoch 1/4\n",
            "49/49 [==============================] - 3s 20ms/step - loss: 0.4795 - accuracy: 0.8133\n",
            "Epoch 2/4\n",
            "49/49 [==============================] - 1s 18ms/step - loss: 0.2666 - accuracy: 0.9074\n",
            "Epoch 3/4\n",
            "49/49 [==============================] - 1s 16ms/step - loss: 0.2001 - accuracy: 0.9303\n",
            "Epoch 4/4\n",
            "49/49 [==============================] - 1s 14ms/step - loss: 0.1670 - accuracy: 0.9426\n",
            "782/782 [==============================] - 3s 4ms/step - loss: 0.2989 - accuracy: 0.8834\n",
            "[0.29894697666168213, 0.8833600282669067] \n",
            " loss diff =  0.0031 accuracy diff =  0.0012\n"
          ]
        }
      ]
    },
    {
      "cell_type": "markdown",
      "source": [
        "Loss는 예제 코드보다 0.0031 증가, accuracy도 0.0012 증가"
      ],
      "metadata": {
        "id": "bHxadBz0pDKz"
      }
    },
    {
      "cell_type": "code",
      "source": [
        ""
      ],
      "metadata": {
        "id": "oq9ErrDxo0YL"
      },
      "execution_count": null,
      "outputs": []
    }
  ]
}