{
  "nbformat": 4,
  "nbformat_minor": 0,
  "metadata": {
    "colab": {
      "name": "HW1_2.ipynb",
      "provenance": [],
      "collapsed_sections": [],
      "include_colab_link": true
    },
    "kernelspec": {
      "name": "python3",
      "display_name": "Python 3"
    },
    "language_info": {
      "name": "python"
    },
    "accelerator": "GPU"
  },
  "cells": [
    {
      "cell_type": "markdown",
      "metadata": {
        "id": "view-in-github",
        "colab_type": "text"
      },
      "source": [
        "<a href=\"https://colab.research.google.com/github/khee11/testrepository/blob/main/HW1_2.ipynb\" target=\"_parent\"><img src=\"https://colab.research.google.com/assets/colab-badge.svg\" alt=\"Open In Colab\"/></a>"
      ]
    },
    {
      "cell_type": "markdown",
      "source": [
        "## HW 1 \n",
        "tensorflow의 gradient tape 을 사용하여 아래 문제들을 풀어보세요\n",
        "\n",
        "EX)\n",
        "```\n",
        "input_var = tf.Variable(initial_value=3.)\n",
        "with tf.GradientTape() as tape:\n",
        "   result = tf.square(input_var)\n",
        "gradient = tape.gradient(result, input_var)\n",
        "```\n",
        "\n",
        "### Q1  $y = x^2 + 3x + 1$ 의 수식을  $x$ (a scalar variable) 에 대해 미분해보세요."
      ],
      "metadata": {
        "id": "OwBySVVU5h6M"
      }
    },
    {
      "cell_type": "code",
      "execution_count": 53,
      "metadata": {
        "id": "aZSgHuiR5W1k",
        "colab": {
          "base_uri": "https://localhost:8080/"
        },
        "outputId": "11863635-4276-4c36-b47c-8ccf8cc97422"
      },
      "outputs": [
        {
          "output_type": "stream",
          "name": "stdout",
          "text": [
            "x= 3.0 일 때 x에 대한 미분값은 9.0\n"
          ]
        }
      ],
      "source": [
        "import tensorflow as tf\n",
        "x = tf.Variable(initial_value=3.)\n",
        "with tf.GradientTape() as tape:\n",
        "  y = tf.square(x) + 3*x + 1\n",
        "gradient = tape.gradient(y, x)\n",
        "\n",
        "print(\"x=\",x.numpy(),\"일 때 x에 대한 미분값은\", gradient.numpy())"
      ]
    },
    {
      "cell_type": "markdown",
      "source": [
        "### Q2 $y = X^3 + 3X + 5$ 의 수식을  $X$ (a 2 by 2 matrix variable) 에 대해 미분해보세요."
      ],
      "metadata": {
        "id": "qEqK8L1k6PSd"
      }
    },
    {
      "cell_type": "code",
      "source": [
        "import tensorflow as tf\n",
        "x = tf.Variable(initial_value=[(3.,2.),(1.,2.)])\n",
        "with tf.GradientTape() as tape:\n",
        "  y = tf.matmul(tf.matmul(x,x),x) + 3*x + 5\n",
        "gradient = tape.gradient(y, x)\n",
        "\n",
        "print(\"x = \\n\",x.numpy(),\"일 때 \\n X에 대한 미분값은 \\n\", gradient.numpy())"
      ],
      "metadata": {
        "id": "WKvVq8pQ6YNt",
        "colab": {
          "base_uri": "https://localhost:8080/"
        },
        "outputId": "5b2bc54c-6390-41cf-b304-610eae70aa47"
      },
      "execution_count": 58,
      "outputs": [
        {
          "output_type": "stream",
          "name": "stdout",
          "text": [
            "x = \n",
            " [[3. 2.]\n",
            " [1. 2.]] 일 때 \n",
            " X에 대한 미분값은 \n",
            " [[60. 42.]\n",
            " [60. 42.]]\n"
          ]
        }
      ]
    },
    {
      "cell_type": "markdown",
      "source": [
        "### Q3 $z = X^3 y^2 + 3X + 2yX + 1$ 의 수식을  $X$ (a 2 by 2 matrix variable)와 $y$ (a scalar variable) 에 대해 미분해보세요."
      ],
      "metadata": {
        "id": "AFsXMZmW6e6F"
      }
    },
    {
      "cell_type": "code",
      "source": [
        "import tensorflow as tf\n",
        "x = tf.Variable(initial_value=[(3.,2.),(1.,2.)])\n",
        "y = tf.Variable(initial_value=3.)\n",
        "\n",
        "with tf.GradientTape() as tape:\n",
        "  z = tf.matmul(tf.matmul(x,x),x)*tf.square(y) + 3*x + 2*x*y + 1\n",
        "gradient_x = tape.gradient(z, x).numpy()\n",
        "\n",
        "with tf.GradientTape() as tape:\n",
        "  z = tf.matmul(tf.matmul(x,x),x)*tf.square(y) + 3*x + 2*x*y + 1\n",
        "gradient_y = tape.gradient(z, y).numpy()\n",
        "\n",
        "print(\"x = \\n\",x.numpy(),\"일 때 \\n X에 대한 미분값 : \", \"\\n\", gradient_x, \"\\n\", \"y에 대한 미분값 : \\n\", gradient_y)"
      ],
      "metadata": {
        "colab": {
          "base_uri": "https://localhost:8080/"
        },
        "id": "qyRK6JQBtl0o",
        "outputId": "b30a86b8-bc00-473c-b177-a4d56b17ad8a"
      },
      "execution_count": 59,
      "outputs": [
        {
          "output_type": "stream",
          "name": "stdout",
          "text": [
            "x = \n",
            " [[3. 2.]\n",
            " [1. 2.]] 일 때 \n",
            " X에 대한 미분값 :  \n",
            " [[522. 360.]\n",
            " [522. 360.]] \n",
            " y에 대한 미분값 : \n",
            " 784.0\n"
          ]
        }
      ]
    },
    {
      "cell_type": "markdown",
      "source": [
        "### 아래 코드는 수업시간에 배운 예제 코드입니다. 코드를 참고하여 문제들을 풀어보세요."
      ],
      "metadata": {
        "id": "jvkjYY0lgItO"
      }
    },
    {
      "cell_type": "code",
      "source": [
        "from tensorflow.keras.datasets import imdb\n",
        "(train_data, train_labels), (test_data, test_labels) = imdb.load_data(\n",
        "    num_words=10000)"
      ],
      "metadata": {
        "id": "mXXKBxo36kPl"
      },
      "execution_count": 71,
      "outputs": []
    },
    {
      "cell_type": "code",
      "source": [
        "import numpy as np\n",
        "def vectorize_sequences(sequences, dimension=10000):\n",
        "    results = np.zeros((len(sequences), dimension))\n",
        "    for i, sequence in enumerate(sequences):\n",
        "        for j in sequence:\n",
        "            results[i, j] = 1.\n",
        "    return results\n",
        "x_train = vectorize_sequences(train_data)\n",
        "x_test = vectorize_sequences(test_data)"
      ],
      "metadata": {
        "id": "0XgpA2VJgL4u"
      },
      "execution_count": 72,
      "outputs": []
    },
    {
      "cell_type": "code",
      "source": [
        "y_train = np.asarray(train_labels).astype(\"float32\")\n",
        "y_test = np.asarray(test_labels).astype(\"float32\")"
      ],
      "metadata": {
        "id": "uQz7BrwygPOY"
      },
      "execution_count": 73,
      "outputs": []
    },
    {
      "cell_type": "code",
      "source": [
        "from tensorflow import keras\n",
        "from tensorflow.keras import layers\n",
        "\n",
        "model = keras.Sequential([\n",
        "    layers.Dense(16, activation=\"relu\"),\n",
        "    layers.Dense(16, activation=\"relu\"),\n",
        "    layers.Dense(1, activation=\"sigmoid\")\n",
        "])"
      ],
      "metadata": {
        "id": "ZNsEKqmjgRrL"
      },
      "execution_count": 74,
      "outputs": []
    },
    {
      "cell_type": "code",
      "source": [
        "model.compile(optimizer=\"rmsprop\",\n",
        "              loss=\"binary_crossentropy\",\n",
        "              metrics=[\"accuracy\"])"
      ],
      "metadata": {
        "id": "3CB4h64bgUOn"
      },
      "execution_count": 75,
      "outputs": []
    },
    {
      "cell_type": "code",
      "source": [
        "x_val = x_train[:10000]\n",
        "partial_x_train = x_train[10000:]\n",
        "y_val = y_train[:10000]\n",
        "partial_y_train = y_train[10000:]"
      ],
      "metadata": {
        "id": "dj4wjxbVgb6R"
      },
      "execution_count": 76,
      "outputs": []
    },
    {
      "cell_type": "code",
      "source": [
        "history = model.fit(partial_x_train,\n",
        "                    partial_y_train,\n",
        "                    epochs=20,\n",
        "                    batch_size=512,\n",
        "                    validation_data=(x_val, y_val))"
      ],
      "metadata": {
        "colab": {
          "base_uri": "https://localhost:8080/"
        },
        "id": "ei6PKGUOgfqz",
        "outputId": "7f76fb33-8efa-466a-fb0a-01449aa07de7"
      },
      "execution_count": 77,
      "outputs": [
        {
          "output_type": "stream",
          "name": "stdout",
          "text": [
            "Epoch 1/20\n",
            "30/30 [==============================] - 2s 51ms/step - loss: 0.5580 - accuracy: 0.7743 - val_loss: 0.4363 - val_accuracy: 0.8605\n",
            "Epoch 2/20\n",
            "30/30 [==============================] - 1s 26ms/step - loss: 0.3509 - accuracy: 0.8957 - val_loss: 0.3281 - val_accuracy: 0.8835\n",
            "Epoch 3/20\n",
            "30/30 [==============================] - 1s 21ms/step - loss: 0.2522 - accuracy: 0.9203 - val_loss: 0.2884 - val_accuracy: 0.8879\n",
            "Epoch 4/20\n",
            "30/30 [==============================] - 1s 22ms/step - loss: 0.1962 - accuracy: 0.9350 - val_loss: 0.2727 - val_accuracy: 0.8905\n",
            "Epoch 5/20\n",
            "30/30 [==============================] - 1s 21ms/step - loss: 0.1569 - accuracy: 0.9497 - val_loss: 0.2754 - val_accuracy: 0.8888\n",
            "Epoch 6/20\n",
            "30/30 [==============================] - 1s 22ms/step - loss: 0.1299 - accuracy: 0.9587 - val_loss: 0.2931 - val_accuracy: 0.8833\n",
            "Epoch 7/20\n",
            "30/30 [==============================] - 1s 21ms/step - loss: 0.1080 - accuracy: 0.9685 - val_loss: 0.3002 - val_accuracy: 0.8858\n",
            "Epoch 8/20\n",
            "30/30 [==============================] - 1s 22ms/step - loss: 0.0879 - accuracy: 0.9765 - val_loss: 0.3487 - val_accuracy: 0.8765\n",
            "Epoch 9/20\n",
            "30/30 [==============================] - 1s 21ms/step - loss: 0.0750 - accuracy: 0.9786 - val_loss: 0.3410 - val_accuracy: 0.8788\n",
            "Epoch 10/20\n",
            "30/30 [==============================] - 1s 22ms/step - loss: 0.0616 - accuracy: 0.9843 - val_loss: 0.3669 - val_accuracy: 0.8791\n",
            "Epoch 11/20\n",
            "30/30 [==============================] - 1s 22ms/step - loss: 0.0494 - accuracy: 0.9892 - val_loss: 0.3790 - val_accuracy: 0.8798\n",
            "Epoch 12/20\n",
            "30/30 [==============================] - 1s 22ms/step - loss: 0.0403 - accuracy: 0.9911 - val_loss: 0.4072 - val_accuracy: 0.8772\n",
            "Epoch 13/20\n",
            "30/30 [==============================] - 1s 21ms/step - loss: 0.0311 - accuracy: 0.9942 - val_loss: 0.5061 - val_accuracy: 0.8580\n",
            "Epoch 14/20\n",
            "30/30 [==============================] - 1s 22ms/step - loss: 0.0284 - accuracy: 0.9945 - val_loss: 0.4660 - val_accuracy: 0.8723\n",
            "Epoch 15/20\n",
            "30/30 [==============================] - 1s 25ms/step - loss: 0.0206 - accuracy: 0.9964 - val_loss: 0.4939 - val_accuracy: 0.8730\n",
            "Epoch 16/20\n",
            "30/30 [==============================] - 1s 23ms/step - loss: 0.0153 - accuracy: 0.9985 - val_loss: 0.5256 - val_accuracy: 0.8707\n",
            "Epoch 17/20\n",
            "30/30 [==============================] - 1s 26ms/step - loss: 0.0139 - accuracy: 0.9980 - val_loss: 0.5626 - val_accuracy: 0.8691\n",
            "Epoch 18/20\n",
            "30/30 [==============================] - 1s 23ms/step - loss: 0.0097 - accuracy: 0.9993 - val_loss: 0.5909 - val_accuracy: 0.8691\n",
            "Epoch 19/20\n",
            "30/30 [==============================] - 1s 21ms/step - loss: 0.0060 - accuracy: 0.9998 - val_loss: 0.6339 - val_accuracy: 0.8632\n",
            "Epoch 20/20\n",
            "30/30 [==============================] - 1s 25ms/step - loss: 0.0056 - accuracy: 0.9998 - val_loss: 0.6626 - val_accuracy: 0.8667\n"
          ]
        }
      ]
    },
    {
      "cell_type": "code",
      "source": [
        "history_dict = history.history\n",
        "history_dict.keys()"
      ],
      "metadata": {
        "colab": {
          "base_uri": "https://localhost:8080/"
        },
        "id": "LLGQJqTRhDEu",
        "outputId": "0e11ae3f-77da-4d59-cf8a-5f3476485dfd"
      },
      "execution_count": 78,
      "outputs": [
        {
          "output_type": "execute_result",
          "data": {
            "text/plain": [
              "dict_keys(['loss', 'accuracy', 'val_loss', 'val_accuracy'])"
            ]
          },
          "metadata": {},
          "execution_count": 78
        }
      ]
    },
    {
      "cell_type": "code",
      "source": [
        "import matplotlib.pyplot as plt\n",
        "history_dict = history.history\n",
        "loss_values = history_dict[\"loss\"]\n",
        "val_loss_values = history_dict[\"val_loss\"]\n",
        "epochs = range(1, len(loss_values) + 1)\n",
        "plt.plot(epochs, loss_values, \"bo\", label=\"Training loss\")\n",
        "plt.plot(epochs, val_loss_values, \"b\", label=\"Validation loss\")\n",
        "plt.title(\"Training and validation loss\")\n",
        "plt.xlabel(\"Epochs\")\n",
        "plt.ylabel(\"Loss\")\n",
        "plt.legend()\n",
        "plt.show()"
      ],
      "metadata": {
        "colab": {
          "base_uri": "https://localhost:8080/",
          "height": 295
        },
        "id": "jZfkb3JIhGGd",
        "outputId": "cc6795e6-fb34-4de9-8c30-2f598fc394d5"
      },
      "execution_count": 79,
      "outputs": [
        {
          "output_type": "display_data",
          "data": {
            "text/plain": [
              "<Figure size 432x288 with 1 Axes>"
            ],
            "image/png": "[encoded data removed]"
          },
          "metadata": {
            "needs_background": "light"
          }
        }
      ]
    },
    {
      "cell_type": "code",
      "source": [
        "model = keras.Sequential([\n",
        "    layers.Dense(16, activation=\"relu\"),\n",
        "    layers.Dense(16, activation=\"relu\"),\n",
        "    layers.Dense(1, activation=\"sigmoid\")\n",
        "])\n",
        "model.compile(optimizer=\"rmsprop\",\n",
        "              loss=\"binary_crossentropy\",\n",
        "              metrics=[\"accuracy\"])\n",
        "model.fit(x_train, y_train, epochs=4, batch_size=512)\n",
        "results = model.evaluate(x_test, y_test)"
      ],
      "metadata": {
        "colab": {
          "base_uri": "https://localhost:8080/"
        },
        "id": "OmZqSp4jhMUR",
        "outputId": "d84a9753-1dd3-4733-9e1c-e2a62773606e"
      },
      "execution_count": 80,
      "outputs": [
        {
          "output_type": "stream",
          "name": "stdout",
          "text": [
            "Epoch 1/4\n",
            "49/49 [==============================] - 1s 14ms/step - loss: 0.4373 - accuracy: 0.8306\n",
            "Epoch 2/4\n",
            "49/49 [==============================] - 1s 13ms/step - loss: 0.2525 - accuracy: 0.9094\n",
            "Epoch 3/4\n",
            "49/49 [==============================] - 1s 13ms/step - loss: 0.1946 - accuracy: 0.9315\n",
            "Epoch 4/4\n",
            "49/49 [==============================] - 1s 14ms/step - loss: 0.1635 - accuracy: 0.9425\n",
            "782/782 [==============================] - 3s 4ms/step - loss: 0.3190 - accuracy: 0.8760\n"
          ]
        }
      ]
    },
    {
      "cell_type": "markdown",
      "source": [
        "### Q4 모델에 hidden layer(dense layer)들을 늘려서 evaluation 결과를 확인해보세요. (2번째 트레이닝 때의 epoch 갯수는 상황에 맞게 조절해주세요.)"
      ],
      "metadata": {
        "id": "7f7ckxDAg4cX"
      }
    },
    {
      "cell_type": "code",
      "source": [
        "model2 = keras.Sequential([\n",
        "    layers.Dense(16, activation=\"relu\"),\n",
        "    layers.Dense(16, activation=\"relu\"),\n",
        "    layers.Dense(16, activation=\"relu\"),\n",
        "    layers.Dense(1, activation=\"sigmoid\")\n",
        "])\n",
        "\n",
        "model2.compile(optimizer=\"rmsprop\",\n",
        "              loss=\"binary_crossentropy\",\n",
        "              metrics=[\"accuracy\"])\n",
        "\n",
        "history2 = model2.fit(partial_x_train,\n",
        "                    partial_y_train,\n",
        "                    epochs=7,\n",
        "                    batch_size=512,\n",
        "                    validation_data=(x_val, y_val))\n",
        "\n",
        "results2 = model2.evaluate(x_test, y_test)\n",
        "print(results, results2)"
      ],
      "metadata": {
        "colab": {
          "base_uri": "https://localhost:8080/"
        },
        "id": "PFLGILPhxjDh",
        "outputId": "0dcdea38-b366-4861-b20a-e9d392b3b693"
      },
      "execution_count": 81,
      "outputs": [
        {
          "output_type": "stream",
          "name": "stdout",
          "text": [
            "Epoch 1/7\n",
            "30/30 [==============================] - 3s 50ms/step - loss: 0.5447 - accuracy: 0.7786 - val_loss: 0.4049 - val_accuracy: 0.8699\n",
            "Epoch 2/7\n",
            "30/30 [==============================] - 1s 45ms/step - loss: 0.3143 - accuracy: 0.9012 - val_loss: 0.3053 - val_accuracy: 0.8874\n",
            "Epoch 3/7\n",
            "30/30 [==============================] - 1s 33ms/step - loss: 0.2118 - accuracy: 0.9319 - val_loss: 0.3133 - val_accuracy: 0.8780\n",
            "Epoch 4/7\n",
            "30/30 [==============================] - 1s 31ms/step - loss: 0.1614 - accuracy: 0.9479 - val_loss: 0.3290 - val_accuracy: 0.8783\n",
            "Epoch 5/7\n",
            "30/30 [==============================] - 1s 24ms/step - loss: 0.1287 - accuracy: 0.9594 - val_loss: 0.3318 - val_accuracy: 0.8747\n",
            "Epoch 6/7\n",
            "30/30 [==============================] - 1s 47ms/step - loss: 0.1052 - accuracy: 0.9671 - val_loss: 0.3263 - val_accuracy: 0.8804\n",
            "Epoch 7/7\n",
            "30/30 [==============================] - 1s 31ms/step - loss: 0.0773 - accuracy: 0.9774 - val_loss: 0.3820 - val_accuracy: 0.8782\n"
          ]
        }
      ]
    },
    {
      "cell_type": "markdown",
      "source": [
        "### Q5 Dense layer 들의 output 차원을 16에서 32이로 증가시켜본 후 evaluation 결과를 확인해보세요. (2번째 트레이닝 때의 epoch 갯수는 상황에 맞게 조절해주세요.)"
      ],
      "metadata": {
        "id": "qHQyH8iHhhJb"
      }
    },
    {
      "cell_type": "code",
      "source": [
        "model3 = keras.Sequential([\n",
        "    layers.Dense(32, activation=\"relu\"),\n",
        "    layers.Dense(32, activation=\"relu\"),\n",
        "    layers.Dense(1, activation=\"sigmoid\")\n",
        "])\n",
        "\n",
        "model3.compile(optimizer=\"rmsprop\",\n",
        "              loss=\"binary_crossentropy\",\n",
        "              metrics=[\"accuracy\"])\n",
        "\n",
        "history3 = model3.fit(partial_x_train,\n",
        "                    partial_y_train,\n",
        "                    epochs=7,\n",
        "                    batch_size=512,\n",
        "                    validation_data=(x_val, y_val))\n",
        "\n",
        "results3 = model3.evaluate(x_test, y_test)\n",
        "print(results, results2, results3)"
      ],
      "metadata": {
        "colab": {
          "base_uri": "https://localhost:8080/"
        },
        "id": "gMSLyXiHx6cm",
        "outputId": "55ba3241-2cca-4e78-c5dd-5d78b9ac9203"
      },
      "execution_count": 87,
      "outputs": [
        {
          "output_type": "stream",
          "name": "stdout",
          "text": [
            "Epoch 1/7\n",
            "30/30 [==============================] - 3s 68ms/step - loss: 0.4921 - accuracy: 0.7752 - val_loss: 0.3421 - val_accuracy: 0.8774\n",
            "Epoch 2/7\n",
            "30/30 [==============================] - 1s 28ms/step - loss: 0.2721 - accuracy: 0.9035 - val_loss: 0.2838 - val_accuracy: 0.8903\n",
            "Epoch 3/7\n",
            "30/30 [==============================] - 1s 30ms/step - loss: 0.1997 - accuracy: 0.9311 - val_loss: 0.3112 - val_accuracy: 0.8757\n",
            "Epoch 4/7\n",
            "30/30 [==============================] - 1s 25ms/step - loss: 0.1544 - accuracy: 0.9474 - val_loss: 0.2847 - val_accuracy: 0.8884\n",
            "Epoch 5/7\n",
            "30/30 [==============================] - 1s 25ms/step - loss: 0.1224 - accuracy: 0.9589 - val_loss: 0.2978 - val_accuracy: 0.8870\n",
            "Epoch 6/7\n",
            "30/30 [==============================] - 1s 21ms/step - loss: 0.0941 - accuracy: 0.9696 - val_loss: 0.3301 - val_accuracy: 0.8811\n",
            "Epoch 7/7\n",
            "30/30 [==============================] - 1s 25ms/step - loss: 0.0762 - accuracy: 0.9755 - val_loss: 0.4727 - val_accuracy: 0.8511\n",
            "782/782 [==============================] - 3s 4ms/step - loss: 0.4987 - accuracy: 0.8393\n",
            "[0.3190236985683441, 0.8759999871253967] [0.4116821885108948, 0.8638799786567688] [0.49868249893188477, 0.8392800092697144]\n"
          ]
        }
      ]
    },
    {
      "cell_type": "markdown",
      "source": [
        "### Q6 모형을 조금씩 바꿔보면서 성능을 확인해보고, 좋아 보이는 모형하나를 제안해주세요. "
      ],
      "metadata": {
        "id": "0_NhIm-Ph5d1"
      }
    },
    {
      "cell_type": "code",
      "source": [
        ""
      ],
      "metadata": {
        "id": "p1KHUihxzFvS"
      },
      "execution_count": null,
      "outputs": []
    },
    {
      "cell_type": "code",
      "source": [
        ""
      ],
      "metadata": {
        "id": "a-mTZL7ugsth"
      },
      "execution_count": null,
      "outputs": []
    }
  ]
}