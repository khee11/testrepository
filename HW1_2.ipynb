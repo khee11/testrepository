{
  "nbformat": 4,
  "nbformat_minor": 0,
  "metadata": {
    "colab": {
      "name": "HW1_2.ipynb",
      "provenance": [],
      "collapsed_sections": [],
      "include_colab_link": true
    },
    "kernelspec": {
      "name": "python3",
      "display_name": "Python 3"
    },
    "language_info": {
      "name": "python"
    },
    "accelerator": "GPU"
  },
  "cells": [
    {
      "cell_type": "markdown",
      "metadata": {
        "id": "view-in-github",
        "colab_type": "text"
      },
      "source": [
        "<a href=\"https://colab.research.google.com/github/khee11/testrepository/blob/main/HW1_2.ipynb\" target=\"_parent\"><img src=\"https://colab.research.google.com/assets/colab-badge.svg\" alt=\"Open In Colab\"/></a>"
      ]
    },
    {
      "cell_type": "markdown",
      "source": [
        "## HW 1 \n",
        "tensorflow의 gradient tape 을 사용하여 아래 문제들을 풀어보세요\n",
        "\n",
        "EX)\n",
        "```\n",
        "input_var = tf.Variable(initial_value=3.)\n",
        "with tf.GradientTape() as tape:\n",
        "   result = tf.square(input_var)\n",
        "gradient = tape.gradient(result, input_var)\n",
        "```\n",
        "\n",
        "### Q1  $y = x^2 + 3x + 1$ 의 수식을  $x$ (a scalar variable) 에 대해 미분해보세요."
      ],
      "metadata": {
        "id": "OwBySVVU5h6M"
      }
    },
    {
      "cell_type": "code",
      "execution_count": null,
      "metadata": {
        "id": "aZSgHuiR5W1k",
        "colab": {
          "base_uri": "https://localhost:8080/"
        },
        "outputId": "11863635-4276-4c36-b47c-8ccf8cc97422"
      },
      "outputs": [
        {
          "output_type": "stream",
          "name": "stdout",
          "text": [
            "x= 3.0 일 때 x에 대한 미분값은 9.0\n"
          ]
        }
      ],
      "source": [
        "import tensorflow as tf\n",
        "x = tf.Variable(initial_value=3.)\n",
        "with tf.GradientTape() as tape:\n",
        "  y = tf.square(x) + 3*x + 1\n",
        "gradient = tape.gradient(y, x)\n",
        "\n",
        "print(\"x=\",x.numpy(),\"일 때 x에 대한 미분값은\", gradient.numpy())"
      ]
    },
    {
      "cell_type": "markdown",
      "source": [
        "### Q2 $y = X^3 + 3X + 5$ 의 수식을  $X$ (a 2 by 2 matrix variable) 에 대해 미분해보세요."
      ],
      "metadata": {
        "id": "qEqK8L1k6PSd"
      }
    },
    {
      "cell_type": "code",
      "source": [
        "import tensorflow as tf\n",
        "x = tf.Variable(initial_value=[(3.,2.),(1.,2.)])\n",
        "with tf.GradientTape() as tape:\n",
        "  y = tf.matmul(tf.matmul(x,x),x) + 3*x + 5\n",
        "gradient = tape.gradient(y, x)\n",
        "\n",
        "print(\"x = \\n\",x.numpy(),\"일 때 \\n X에 대한 미분값은 \\n\", gradient.numpy())"
      ],
      "metadata": {
        "id": "WKvVq8pQ6YNt",
        "colab": {
          "base_uri": "https://localhost:8080/"
        },
        "outputId": "5b2bc54c-6390-41cf-b304-610eae70aa47"
      },
      "execution_count": null,
      "outputs": [
        {
          "output_type": "stream",
          "name": "stdout",
          "text": [
            "x = \n",
            " [[3. 2.]\n",
            " [1. 2.]] 일 때 \n",
            " X에 대한 미분값은 \n",
            " [[60. 42.]\n",
            " [60. 42.]]\n"
          ]
        }
      ]
    },
    {
      "cell_type": "markdown",
      "source": [
        "### Q3 $z = X^3 y^2 + 3X + 2yX + 1$ 의 수식을  $X$ (a 2 by 2 matrix variable)와 $y$ (a scalar variable) 에 대해 미분해보세요."
      ],
      "metadata": {
        "id": "AFsXMZmW6e6F"
      }
    },
    {
      "cell_type": "code",
      "source": [
        "import tensorflow as tf\n",
        "x = tf.Variable(initial_value=[(3.,2.),(1.,2.)])\n",
        "y = tf.Variable(initial_value=3.)\n",
        "\n",
        "with tf.GradientTape() as tape:\n",
        "  z = tf.matmul(tf.matmul(x,x),x)*tf.square(y) + 3*x + 2*x*y + 1\n",
        "gradient_x = tape.gradient(z, x).numpy()\n",
        "\n",
        "with tf.GradientTape() as tape:\n",
        "  z = tf.matmul(tf.matmul(x,x),x)*tf.square(y) + 3*x + 2*x*y + 1\n",
        "gradient_y = tape.gradient(z, y).numpy()\n",
        "\n",
        "print(\"x = \\n\",x.numpy(),\"일 때 \\n X에 대한 미분값 : \", \"\\n\", gradient_x, \"\\n\", \"y에 대한 미분값 : \\n\", gradient_y)"
      ],
      "metadata": {
        "colab": {
          "base_uri": "https://localhost:8080/"
        },
        "id": "qyRK6JQBtl0o",
        "outputId": "b30a86b8-bc00-473c-b177-a4d56b17ad8a"
      },
      "execution_count": null,
      "outputs": [
        {
          "output_type": "stream",
          "name": "stdout",
          "text": [
            "x = \n",
            " [[3. 2.]\n",
            " [1. 2.]] 일 때 \n",
            " X에 대한 미분값 :  \n",
            " [[522. 360.]\n",
            " [522. 360.]] \n",
            " y에 대한 미분값 : \n",
            " 784.0\n"
          ]
        }
      ]
    },
    {
      "cell_type": "markdown",
      "source": [
        "### 아래 코드는 수업시간에 배운 예제 코드입니다. 코드를 참고하여 문제들을 풀어보세요."
      ],
      "metadata": {
        "id": "jvkjYY0lgItO"
      }
    },
    {
      "cell_type": "code",
      "source": [
        "from tensorflow.keras.datasets import imdb\n",
        "(train_data, train_labels), (test_data, test_labels) = imdb.load_data(\n",
        "    num_words=10000)"
      ],
      "metadata": {
        "id": "mXXKBxo36kPl"
      },
      "execution_count": 1,
      "outputs": []
    },
    {
      "cell_type": "code",
      "source": [
        "import numpy as np\n",
        "def vectorize_sequences(sequences, dimension=10000):\n",
        "    results = np.zeros((len(sequences), dimension))\n",
        "    for i, sequence in enumerate(sequences):\n",
        "        for j in sequence:\n",
        "            results[i, j] = 1.\n",
        "    return results\n",
        "x_train = vectorize_sequences(train_data)\n",
        "x_test = vectorize_sequences(test_data)"
      ],
      "metadata": {
        "id": "0XgpA2VJgL4u"
      },
      "execution_count": 2,
      "outputs": []
    },
    {
      "cell_type": "code",
      "source": [
        "y_train = np.asarray(train_labels).astype(\"float32\")\n",
        "y_test = np.asarray(test_labels).astype(\"float32\")"
      ],
      "metadata": {
        "id": "uQz7BrwygPOY"
      },
      "execution_count": 3,
      "outputs": []
    },
    {
      "cell_type": "code",
      "source": [
        "from tensorflow import keras\n",
        "from tensorflow.keras import layers\n",
        "\n",
        "model = keras.Sequential([\n",
        "    layers.Dense(16, activation=\"relu\"),\n",
        "    layers.Dense(16, activation=\"relu\"),\n",
        "    layers.Dense(1, activation=\"sigmoid\")\n",
        "])"
      ],
      "metadata": {
        "id": "ZNsEKqmjgRrL"
      },
      "execution_count": 4,
      "outputs": []
    },
    {
      "cell_type": "code",
      "source": [
        "model.compile(optimizer=\"rmsprop\",\n",
        "              loss=\"binary_crossentropy\",\n",
        "              metrics=[\"accuracy\"])"
      ],
      "metadata": {
        "id": "3CB4h64bgUOn"
      },
      "execution_count": 5,
      "outputs": []
    },
    {
      "cell_type": "code",
      "source": [
        "x_val = x_train[:10000]\n",
        "partial_x_train = x_train[10000:]\n",
        "y_val = y_train[:10000]\n",
        "partial_y_train = y_train[10000:]"
      ],
      "metadata": {
        "id": "dj4wjxbVgb6R"
      },
      "execution_count": 6,
      "outputs": []
    },
    {
      "cell_type": "code",
      "source": [
        "history = model.fit(partial_x_train,\n",
        "                    partial_y_train,\n",
        "                    epochs=20,\n",
        "                    batch_size=512,\n",
        "                    validation_data=(x_val, y_val))"
      ],
      "metadata": {
        "colab": {
          "base_uri": "https://localhost:8080/"
        },
        "id": "ei6PKGUOgfqz",
        "outputId": "e90120d9-2280-4a32-8606-876fdc60877b"
      },
      "execution_count": 7,
      "outputs": [
        {
          "output_type": "stream",
          "name": "stdout",
          "text": [
            "Epoch 1/20\n",
            "30/30 [==============================] - 2s 43ms/step - loss: 0.5272 - accuracy: 0.7888 - val_loss: 0.4082 - val_accuracy: 0.8580\n",
            "Epoch 2/20\n",
            "30/30 [==============================] - 1s 21ms/step - loss: 0.3273 - accuracy: 0.8975 - val_loss: 0.3194 - val_accuracy: 0.8829\n",
            "Epoch 3/20\n",
            "30/30 [==============================] - 1s 22ms/step - loss: 0.2405 - accuracy: 0.9211 - val_loss: 0.2830 - val_accuracy: 0.8907\n",
            "Epoch 4/20\n",
            "30/30 [==============================] - 1s 21ms/step - loss: 0.1888 - accuracy: 0.9413 - val_loss: 0.2728 - val_accuracy: 0.8903\n",
            "Epoch 5/20\n",
            "30/30 [==============================] - 1s 21ms/step - loss: 0.1569 - accuracy: 0.9491 - val_loss: 0.2751 - val_accuracy: 0.8907\n",
            "Epoch 6/20\n",
            "30/30 [==============================] - 1s 24ms/step - loss: 0.1319 - accuracy: 0.9585 - val_loss: 0.2900 - val_accuracy: 0.8851\n",
            "Epoch 7/20\n",
            "30/30 [==============================] - 1s 24ms/step - loss: 0.1078 - accuracy: 0.9673 - val_loss: 0.3294 - val_accuracy: 0.8761\n",
            "Epoch 8/20\n",
            "30/30 [==============================] - 1s 21ms/step - loss: 0.0938 - accuracy: 0.9733 - val_loss: 0.3116 - val_accuracy: 0.8852\n",
            "Epoch 9/20\n",
            "30/30 [==============================] - 1s 22ms/step - loss: 0.0772 - accuracy: 0.9773 - val_loss: 0.3495 - val_accuracy: 0.8758\n",
            "Epoch 10/20\n",
            "30/30 [==============================] - 1s 21ms/step - loss: 0.0636 - accuracy: 0.9836 - val_loss: 0.3839 - val_accuracy: 0.8753\n",
            "Epoch 11/20\n",
            "30/30 [==============================] - 1s 21ms/step - loss: 0.0518 - accuracy: 0.9882 - val_loss: 0.3916 - val_accuracy: 0.8728\n",
            "Epoch 12/20\n",
            "30/30 [==============================] - 1s 25ms/step - loss: 0.0432 - accuracy: 0.9904 - val_loss: 0.4217 - val_accuracy: 0.8721\n",
            "Epoch 13/20\n",
            "30/30 [==============================] - 1s 22ms/step - loss: 0.0339 - accuracy: 0.9939 - val_loss: 0.4388 - val_accuracy: 0.8726\n",
            "Epoch 14/20\n",
            "30/30 [==============================] - 1s 22ms/step - loss: 0.0268 - accuracy: 0.9956 - val_loss: 0.4804 - val_accuracy: 0.8722\n",
            "Epoch 15/20\n",
            "30/30 [==============================] - 1s 21ms/step - loss: 0.0214 - accuracy: 0.9963 - val_loss: 0.5024 - val_accuracy: 0.8714\n",
            "Epoch 16/20\n",
            "30/30 [==============================] - 1s 20ms/step - loss: 0.0175 - accuracy: 0.9971 - val_loss: 0.5389 - val_accuracy: 0.8715\n",
            "Epoch 17/20\n",
            "30/30 [==============================] - 1s 22ms/step - loss: 0.0115 - accuracy: 0.9991 - val_loss: 0.5715 - val_accuracy: 0.8696\n",
            "Epoch 18/20\n",
            "30/30 [==============================] - 1s 22ms/step - loss: 0.0093 - accuracy: 0.9991 - val_loss: 0.6188 - val_accuracy: 0.8664\n",
            "Epoch 19/20\n",
            "30/30 [==============================] - 1s 25ms/step - loss: 0.0100 - accuracy: 0.9983 - val_loss: 0.6432 - val_accuracy: 0.8680\n",
            "Epoch 20/20\n",
            "30/30 [==============================] - 1s 21ms/step - loss: 0.0044 - accuracy: 0.9998 - val_loss: 0.7046 - val_accuracy: 0.8616\n"
          ]
        }
      ]
    },
    {
      "cell_type": "code",
      "source": [
        "import matplotlib.pyplot as plt\n",
        "history_dict = history.history\n",
        "loss_values = history_dict[\"loss\"]\n",
        "val_loss_values = history_dict[\"val_loss\"]\n",
        "epochs = range(1, len(loss_values) + 1)\n",
        "plt.plot(epochs, loss_values, \"bo\", label=\"Training loss\")\n",
        "plt.plot(epochs, val_loss_values, \"b\", label=\"Validation loss\")\n",
        "plt.title(\"Training and validation loss\")\n",
        "plt.xlabel(\"Epochs\")\n",
        "plt.ylabel(\"Loss\")\n",
        "plt.legend()\n",
        "plt.show()"
      ],
      "metadata": {
        "colab": {
          "base_uri": "https://localhost:8080/",
          "height": 295
        },
        "id": "jZfkb3JIhGGd",
        "outputId": "967d4c70-3e56-41cd-db81-b40e85a0d933"
      },
      "execution_count": 8,
      "outputs": [
        {
          "output_type": "display_data",
          "data": {
            "text/plain": [
              "<Figure size 432x288 with 1 Axes>"
            ],
            "image/png": "[encoded data removed]"
          },
          "metadata": {
            "needs_background": "light"
          }
        }
      ]
    },
    {
      "cell_type": "code",
      "source": [
        "model = keras.Sequential([\n",
        "    layers.Dense(16, activation=\"relu\"),\n",
        "    layers.Dense(16, activation=\"relu\"),\n",
        "    layers.Dense(1, activation=\"sigmoid\")\n",
        "])\n",
        "model.compile(optimizer=\"rmsprop\",\n",
        "              loss=\"binary_crossentropy\",\n",
        "              metrics=[\"accuracy\"])\n",
        "model.fit(x_train, y_train, epochs=4, batch_size=512)\n",
        "results = model.evaluate(x_test, y_test)"
      ],
      "metadata": {
        "colab": {
          "base_uri": "https://localhost:8080/"
        },
        "id": "OmZqSp4jhMUR",
        "outputId": "9792354b-b924-47fa-97ef-9fb4123c85fa"
      },
      "execution_count": 9,
      "outputs": [
        {
          "output_type": "stream",
          "name": "stdout",
          "text": [
            "Epoch 1/4\n",
            "49/49 [==============================] - 1s 13ms/step - loss: 0.5280 - accuracy: 0.7769\n",
            "Epoch 2/4\n",
            "49/49 [==============================] - 1s 13ms/step - loss: 0.3123 - accuracy: 0.9011\n",
            "Epoch 3/4\n",
            "49/49 [==============================] - 1s 14ms/step - loss: 0.2243 - accuracy: 0.9253\n",
            "Epoch 4/4\n",
            "49/49 [==============================] - 1s 13ms/step - loss: 0.1833 - accuracy: 0.9380\n",
            "782/782 [==============================] - 3s 3ms/step - loss: 0.2996 - accuracy: 0.8816\n"
          ]
        }
      ]
    },
    {
      "cell_type": "markdown",
      "source": [
        "### Q4 모델에 hidden layer(dense layer)들을 늘려서 evaluation 결과를 확인해보세요. (2번째 트레이닝 때의 epoch 갯수는 상황에 맞게 조절해주세요.)"
      ],
      "metadata": {
        "id": "7f7ckxDAg4cX"
      }
    },
    {
      "cell_type": "code",
      "source": [
        "from tensorflow.keras.datasets import imdb\n",
        "(train_data, train_labels), (test_data, test_labels) = imdb.load_data(\n",
        "    num_words=10000)\n",
        "\n",
        "import numpy as np\n",
        "def vectorize_sequences(sequences, dimension=10000):\n",
        "    results = np.zeros((len(sequences), dimension))\n",
        "    for i, sequence in enumerate(sequences):\n",
        "        for j in sequence:\n",
        "            results[i, j] = 1.\n",
        "    return results\n",
        "x_train = vectorize_sequences(train_data)\n",
        "x_test = vectorize_sequences(test_data)\n",
        "\n",
        "y_train = np.asarray(train_labels).astype(\"float32\")\n",
        "y_test = np.asarray(test_labels).astype(\"float32\")\n",
        "\n",
        "x_val = x_train[:10000]\n",
        "partial_x_train = x_train[10000:]\n",
        "y_val = y_train[:10000]\n",
        "partial_y_train = y_train[10000:]"
      ],
      "metadata": {
        "id": "phkW1vdGFeYO"
      },
      "execution_count": 2,
      "outputs": []
    },
    {
      "cell_type": "code",
      "source": [
        "from tensorflow import keras\n",
        "from tensorflow.keras import layers\n",
        "\n",
        "model2 = keras.Sequential([\n",
        "    layers.Dense(16, activation=\"relu\"),\n",
        "    layers.Dense(16, activation=\"relu\"),\n",
        "    layers.Dense(16, activation=\"relu\"),\n",
        "    layers.Dense(1, activation=\"sigmoid\")\n",
        "])\n",
        "\n",
        "model2.compile(optimizer=\"rmsprop\",\n",
        "              loss=\"binary_crossentropy\",\n",
        "              metrics=[\"accuracy\"])\n",
        "\n",
        "history2 = model2.fit(partial_x_train,\n",
        "                    partial_y_train,\n",
        "                    epochs=10,\n",
        "                    batch_size=512,\n",
        "                    validation_data=(x_val, y_val))\n",
        "\n",
        "import matplotlib.pyplot as plt\n",
        "history_dict = history2.history\n",
        "loss_values = history_dict[\"loss\"]\n",
        "val_loss_values = history_dict[\"val_loss\"]\n",
        "epochs = range(1, len(loss_values) + 1)\n",
        "plt.plot(epochs, loss_values, \"bo\", label=\"Training loss\")\n",
        "plt.plot(epochs, val_loss_values, \"b\", color=\"red\", label=\"Validation loss\")\n",
        "plt.title(\"Training and validation loss\")\n",
        "plt.xlabel(\"Epochs\")\n",
        "plt.ylabel(\"Loss\")\n",
        "plt.legend()\n",
        "plt.show()"
      ],
      "metadata": {
        "colab": {
          "base_uri": "https://localhost:8080/",
          "height": 678
        },
        "id": "PFLGILPhxjDh",
        "outputId": "46f30aeb-30c0-430c-a4fd-7bc2995fdbdf"
      },
      "execution_count": null,
      "outputs": [
        {
          "output_type": "stream",
          "name": "stdout",
          "text": [
            "Epoch 1/10\n",
            "30/30 [==============================] - 4s 85ms/step - loss: 0.5332 - accuracy: 0.7732 - val_loss: 0.3874 - val_accuracy: 0.8718\n",
            "Epoch 2/10\n",
            "30/30 [==============================] - 1s 29ms/step - loss: 0.3020 - accuracy: 0.9007 - val_loss: 0.3154 - val_accuracy: 0.8736\n",
            "Epoch 3/10\n",
            "30/30 [==============================] - 1s 43ms/step - loss: 0.2184 - accuracy: 0.9257 - val_loss: 0.2771 - val_accuracy: 0.8898\n",
            "Epoch 4/10\n",
            "30/30 [==============================] - 1s 33ms/step - loss: 0.1630 - accuracy: 0.9454 - val_loss: 0.2899 - val_accuracy: 0.8855\n",
            "Epoch 5/10\n",
            "30/30 [==============================] - 1s 30ms/step - loss: 0.1344 - accuracy: 0.9526 - val_loss: 0.3142 - val_accuracy: 0.8796\n",
            "Epoch 6/10\n",
            "30/30 [==============================] - 1s 33ms/step - loss: 0.1012 - accuracy: 0.9693 - val_loss: 0.3317 - val_accuracy: 0.8798\n",
            "Epoch 7/10\n",
            "30/30 [==============================] - 1s 33ms/step - loss: 0.0893 - accuracy: 0.9719 - val_loss: 0.3334 - val_accuracy: 0.8841\n",
            "Epoch 8/10\n",
            "30/30 [==============================] - 1s 30ms/step - loss: 0.0624 - accuracy: 0.9821 - val_loss: 0.3680 - val_accuracy: 0.8766\n",
            "Epoch 9/10\n",
            "30/30 [==============================] - 1s 34ms/step - loss: 0.0469 - accuracy: 0.9882 - val_loss: 0.3964 - val_accuracy: 0.8779\n",
            "Epoch 10/10\n",
            "30/30 [==============================] - 1s 32ms/step - loss: 0.0397 - accuracy: 0.9896 - val_loss: 0.4365 - val_accuracy: 0.8764\n"
          ]
        },
        {
          "output_type": "display_data",
          "data": {
            "text/plain": [
              "<Figure size 432x288 with 1 Axes>"
            ],
            "image/png": "[encoded data removed]"
          },
          "metadata": {
            "needs_background": "light"
          }
        }
      ]
    },
    {
      "cell_type": "code",
      "source": [
        "# epoch=3일 때 val_loss가 가장 작음\n",
        "\n",
        "model2 = keras.Sequential([\n",
        "    layers.Dense(16, activation=\"relu\"),\n",
        "    layers.Dense(16, activation=\"relu\"),\n",
        "    layers.Dense(16, activation=\"relu\"),\n",
        "    layers.Dense(1, activation=\"sigmoid\")\n",
        "])\n",
        "\n",
        "model2.compile(optimizer=\"rmsprop\",\n",
        "              loss=\"binary_crossentropy\",\n",
        "              metrics=[\"accuracy\"])\n",
        "\n",
        "model2.fit(x_train, y_train, epochs=3, batch_size=512)\n",
        "results2 = model2.evaluate(x_test, y_test)\n",
        "print(results2, \"\\n loss diff = \", round(results2[0] - results[0], 4), \n",
        "      \"accuracy diff = \", round(results2[1]-results[1],4))"
      ],
      "metadata": {
        "id": "tSHRveYqHJD2",
        "outputId": "3812ab35-398a-4a8f-b9fd-62615143dd3a",
        "colab": {
          "base_uri": "https://localhost:8080/"
        }
      },
      "execution_count": null,
      "outputs": [
        {
          "output_type": "stream",
          "name": "stdout",
          "text": [
            "Epoch 1/3\n",
            "49/49 [==============================] - 1s 13ms/step - loss: 0.4389 - accuracy: 0.8246\n",
            "Epoch 2/3\n",
            "49/49 [==============================] - 1s 14ms/step - loss: 0.2453 - accuracy: 0.9146\n",
            "Epoch 3/3\n",
            "49/49 [==============================] - 1s 13ms/step - loss: 0.1918 - accuracy: 0.9292\n",
            "782/782 [==============================] - 3s 3ms/step - loss: 0.2872 - accuracy: 0.8853\n",
            "[0.287153035402298, 0.8852800130844116] \n",
            " loss diff =  -0.0366 accuracy diff =  0.0124\n"
          ]
        }
      ]
    },
    {
      "cell_type": "markdown",
      "source": [
        "### Q5 Dense layer 들의 output 차원을 16에서 32이로 증가시켜본 후 evaluation 결과를 확인해보세요. (2번째 트레이닝 때의 epoch 갯수는 상황에 맞게 조절해주세요.)"
      ],
      "metadata": {
        "id": "qHQyH8iHhhJb"
      }
    },
    {
      "cell_type": "code",
      "source": [
        "from tensorflow import keras\n",
        "from tensorflow.keras import layers\n",
        "\n",
        "model3 = keras.Sequential([\n",
        "    layers.Dense(32, activation=\"relu\"),\n",
        "    layers.Dense(32, activation=\"relu\"),\n",
        "    layers.Dense(1, activation=\"sigmoid\")\n",
        "])\n",
        "\n",
        "model3.compile(optimizer=\"rmsprop\",\n",
        "              loss=\"binary_crossentropy\",\n",
        "              metrics=[\"accuracy\"])\n",
        "\n",
        "history3 = model3.fit(partial_x_train,\n",
        "                    partial_y_train,\n",
        "                    epochs=10,\n",
        "                    batch_size=512,\n",
        "                    validation_data=(x_val, y_val))\n",
        "\n",
        "import matplotlib.pyplot as plt\n",
        "history_dict = history3.history\n",
        "loss_values = history_dict[\"loss\"]\n",
        "val_loss_values = history_dict[\"val_loss\"]\n",
        "epochs = range(1, len(loss_values) + 1)\n",
        "plt.plot(epochs, loss_values, \"bo\", label=\"Training loss\")\n",
        "plt.plot(epochs, val_loss_values, \"b\", color=\"red\", label=\"Validation loss\")\n",
        "plt.title(\"Training and validation loss\")\n",
        "plt.xlabel(\"Epochs\")\n",
        "plt.ylabel(\"Loss\")\n",
        "plt.legend()\n",
        "plt.show()"
      ],
      "metadata": {
        "id": "EAzUUb1gLo-X",
        "outputId": "e27a742f-fd6d-4dd4-c3aa-3e0859af59e5",
        "colab": {
          "base_uri": "https://localhost:8080/",
          "height": 678
        }
      },
      "execution_count": null,
      "outputs": [
        {
          "output_type": "stream",
          "name": "stdout",
          "text": [
            "Epoch 1/10\n",
            "30/30 [==============================] - 2s 54ms/step - loss: 0.4854 - accuracy: 0.7911 - val_loss: 0.3633 - val_accuracy: 0.8606\n",
            "Epoch 2/10\n",
            "30/30 [==============================] - 1s 25ms/step - loss: 0.2740 - accuracy: 0.9025 - val_loss: 0.2863 - val_accuracy: 0.8899\n",
            "Epoch 3/10\n",
            "30/30 [==============================] - 1s 21ms/step - loss: 0.1946 - accuracy: 0.9329 - val_loss: 0.2755 - val_accuracy: 0.8899\n",
            "Epoch 4/10\n",
            "30/30 [==============================] - 1s 21ms/step - loss: 0.1554 - accuracy: 0.9451 - val_loss: 0.2841 - val_accuracy: 0.8871\n",
            "Epoch 5/10\n",
            "30/30 [==============================] - 1s 22ms/step - loss: 0.1243 - accuracy: 0.9574 - val_loss: 0.3016 - val_accuracy: 0.8837\n",
            "Epoch 6/10\n",
            "30/30 [==============================] - 1s 21ms/step - loss: 0.0947 - accuracy: 0.9707 - val_loss: 0.3226 - val_accuracy: 0.8826\n",
            "Epoch 7/10\n",
            "30/30 [==============================] - 1s 21ms/step - loss: 0.0770 - accuracy: 0.9764 - val_loss: 0.4569 - val_accuracy: 0.8503\n",
            "Epoch 8/10\n",
            "30/30 [==============================] - 1s 24ms/step - loss: 0.0565 - accuracy: 0.9831 - val_loss: 0.3822 - val_accuracy: 0.8776\n",
            "Epoch 9/10\n",
            "30/30 [==============================] - 1s 21ms/step - loss: 0.0427 - accuracy: 0.9897 - val_loss: 0.4984 - val_accuracy: 0.8600\n",
            "Epoch 10/10\n",
            "30/30 [==============================] - 1s 21ms/step - loss: 0.0368 - accuracy: 0.9895 - val_loss: 0.4459 - val_accuracy: 0.8749\n"
          ]
        },
        {
          "output_type": "display_data",
          "data": {
            "text/plain": [
              "<Figure size 432x288 with 1 Axes>"
            ],
            "image/png": "[encoded data removed]"
          },
          "metadata": {
            "needs_background": "light"
          }
        }
      ]
    },
    {
      "cell_type": "code",
      "source": [
        "# epoch=3일 때 val_loss가 가장 작음\n",
        "\n",
        "model3 = keras.Sequential([\n",
        "    layers.Dense(32, activation=\"relu\"),\n",
        "    layers.Dense(32, activation=\"relu\"),\n",
        "    layers.Dense(1, activation=\"sigmoid\")\n",
        "])\n",
        "\n",
        "model3.compile(optimizer=\"rmsprop\",\n",
        "              loss=\"binary_crossentropy\",\n",
        "              metrics=[\"accuracy\"])\n",
        "\n",
        "model3.fit(x_train, y_train, epochs=3, batch_size=512)\n",
        "results3 = model3.evaluate(x_test, y_test)\n",
        "print(results3, \"\\n loss diff = \", round(results3[0] - results[0], 4), \n",
        "      \"accuracy diff = \", round(results3[1]-results[1],4))"
      ],
      "metadata": {
        "id": "FWG8Ybr8L0vZ",
        "outputId": "39cf9183-c92a-4191-ec9c-377e0f8a1808",
        "colab": {
          "base_uri": "https://localhost:8080/"
        }
      },
      "execution_count": null,
      "outputs": [
        {
          "output_type": "stream",
          "name": "stdout",
          "text": [
            "Epoch 1/3\n",
            "49/49 [==============================] - 2s 17ms/step - loss: 0.4321 - accuracy: 0.8152\n",
            "Epoch 2/3\n",
            "49/49 [==============================] - 1s 17ms/step - loss: 0.2424 - accuracy: 0.9110\n",
            "Epoch 3/3\n",
            "49/49 [==============================] - 1s 16ms/step - loss: 0.1926 - accuracy: 0.9284\n",
            "782/782 [==============================] - 3s 3ms/step - loss: 0.3147 - accuracy: 0.8742\n",
            "[0.3147381544113159, 0.8741999864578247] \n",
            " loss diff =  -0.009 accuracy diff =  0.0013\n"
          ]
        }
      ]
    },
    {
      "cell_type": "markdown",
      "source": [
        "### Q6 모형을 조금씩 바꿔보면서 성능을 확인해보고, 좋아 보이는 모형하나를 제안해주세요. "
      ],
      "metadata": {
        "id": "0_NhIm-Ph5d1"
      }
    },
    {
      "cell_type": "code",
      "source": [
        "from tensorflow import keras\n",
        "from tensorflow.keras import layers\n",
        "\n",
        "model4 = keras.Sequential([\n",
        "    layers.Dense(16, activation=\"relu\"),\n",
        "    layers.Dense(16, activation=\"relu\"), \n",
        "    layers.Dense(8, activation=\"relu\"), \n",
        "    layers.Dense(1, activation=\"sigmoid\")\n",
        "])\n",
        "\n",
        "model4.compile(optimizer=\"rmsprop\",\n",
        "              loss=\"binary_crossentropy\",\n",
        "              metrics=[\"accuracy\"])\n",
        "\n",
        "history4 = model4.fit(partial_x_train,\n",
        "                    partial_y_train,\n",
        "                    epochs=10,\n",
        "                    batch_size=512,\n",
        "                    validation_data=(x_val, y_val))\n",
        "\n",
        "import matplotlib.pyplot as plt\n",
        "history_dict = history4.history\n",
        "loss_values = history_dict[\"loss\"]\n",
        "val_loss_values = history_dict[\"val_loss\"]\n",
        "epochs = range(1, len(loss_values) + 1)\n",
        "plt.plot(epochs, loss_values, \"bo\", label=\"Training loss\")\n",
        "plt.plot(epochs, val_loss_values, \"b\", color=\"red\", label=\"Validation loss\")\n",
        "plt.title(\"Training and validation loss\")\n",
        "plt.xlabel(\"Epochs\")\n",
        "plt.ylabel(\"Loss\")\n",
        "plt.legend()\n",
        "plt.show()"
      ],
      "metadata": {
        "id": "p1KHUihxzFvS",
        "outputId": "5f9321da-432a-42a0-b555-3db0bdacf895",
        "colab": {
          "base_uri": "https://localhost:8080/",
          "height": 678
        }
      },
      "execution_count": 4,
      "outputs": [
        {
          "output_type": "stream",
          "name": "stdout",
          "text": [
            "Epoch 1/10\n",
            "30/30 [==============================] - 4s 68ms/step - loss: 0.5642 - accuracy: 0.7609 - val_loss: 0.4233 - val_accuracy: 0.8685\n",
            "Epoch 2/10\n",
            "30/30 [==============================] - 1s 33ms/step - loss: 0.3278 - accuracy: 0.8949 - val_loss: 0.3237 - val_accuracy: 0.8723\n",
            "Epoch 3/10\n",
            "30/30 [==============================] - 1s 31ms/step - loss: 0.2230 - accuracy: 0.9247 - val_loss: 0.3096 - val_accuracy: 0.8751\n",
            "Epoch 4/10\n",
            "30/30 [==============================] - 1s 32ms/step - loss: 0.1713 - accuracy: 0.9417 - val_loss: 0.3047 - val_accuracy: 0.8816\n",
            "Epoch 5/10\n",
            "30/30 [==============================] - 1s 24ms/step - loss: 0.1347 - accuracy: 0.9577 - val_loss: 0.2989 - val_accuracy: 0.8867\n",
            "Epoch 6/10\n",
            "30/30 [==============================] - 1s 22ms/step - loss: 0.1083 - accuracy: 0.9659 - val_loss: 0.3320 - val_accuracy: 0.8799\n",
            "Epoch 7/10\n",
            "30/30 [==============================] - 1s 25ms/step - loss: 0.0932 - accuracy: 0.9699 - val_loss: 0.3365 - val_accuracy: 0.8809\n",
            "Epoch 8/10\n",
            "30/30 [==============================] - 1s 26ms/step - loss: 0.0754 - accuracy: 0.9758 - val_loss: 0.3594 - val_accuracy: 0.8806\n",
            "Epoch 9/10\n",
            "30/30 [==============================] - 1s 25ms/step - loss: 0.0561 - accuracy: 0.9855 - val_loss: 0.3904 - val_accuracy: 0.8758\n",
            "Epoch 10/10\n",
            "30/30 [==============================] - 1s 21ms/step - loss: 0.0466 - accuracy: 0.9875 - val_loss: 0.4445 - val_accuracy: 0.8747\n"
          ]
        },
        {
          "output_type": "display_data",
          "data": {
            "text/plain": [
              "<Figure size 432x288 with 1 Axes>"
            ],
            "image/png": "[encoded data removed]"
          },
          "metadata": {
            "needs_background": "light"
          }
        }
      ]
    },
    {
      "cell_type": "code",
      "source": [
        "# epoch=5일 때 val_loss가 가장 작음\n",
        "\n",
        "from tensorflow import keras\n",
        "from tensorflow.keras import layers\n",
        "\n",
        "model4 = keras.Sequential([\n",
        "    layers.Dense(16, activation=\"relu\"),\n",
        "    layers.Dense(16, activation=\"relu\"), \n",
        "    layers.Dense(8, activation=\"relu\"), \n",
        "    layers.Dense(1, activation=\"sigmoid\")\n",
        "])\n",
        "\n",
        "model4.compile(optimizer=\"rmsprop\",\n",
        "              loss=\"binary_crossentropy\",\n",
        "              metrics=[\"accuracy\"])\n",
        "\n",
        "model4.fit(x_train, y_train, epochs=5, batch_size=512)\n",
        "results4 = model4.evaluate(x_test, y_test)\n",
        "print(results4, \"\\n loss diff = \", round(results4[0] - results[0], 4), \n",
        "      \"accuracy diff = \", round(results4[1]-results[1],4))"
      ],
      "metadata": {
        "id": "a-mTZL7ugsth"
      },
      "execution_count": null,
      "outputs": []
    }
  ]
}