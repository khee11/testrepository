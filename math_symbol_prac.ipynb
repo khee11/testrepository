{
  "nbformat": 4,
  "nbformat_minor": 0,
  "metadata": {
    "colab": {
      "name": "math_symbol_prac.ipynb",
      "provenance": [],
      "authorship_tag": "ABX9TyMFnfS4frCVOcLoTNcFx2SQ",
      "include_colab_link": true
    },
    "kernelspec": {
      "name": "python3",
      "display_name": "Python 3"
    },
    "language_info": {
      "name": "python"
    }
  },
  "cells": [
    {
      "cell_type": "markdown",
      "metadata": {
        "id": "view-in-github",
        "colab_type": "text"
      },
      "source": [
        "<a href=\"https://colab.research.google.com/github/khee11/testrepository/blob/main/math_symbol_prac.ipynb\" target=\"_parent\"><img src=\"https://colab.research.google.com/assets/colab-badge.svg\" alt=\"Open In Colab\"/></a>"
      ]
    },
    {
      "cell_type": "markdown",
      "metadata": {
        "id": "d6pae6nYr-21"
      },
      "source": [
        "## 수학 기호 연습\n",
        "\n",
        "수식 기호들을 집어 넣는 연습을 해봅시다. $\\theta = 1$  \n",
        "$1 \\le 5 $  \n",
        "$\\sum_{i=1}^{n} i^2 $\n"
      ]
    },
    {
      "cell_type": "markdown",
      "metadata": {
        "id": "hVMfBRb9s09n"
      },
      "source": [
        "$$\n",
        "$\\sum_{i=1}^{n} i^2 $\n",
        "$$"
      ]
    },
    {
      "cell_type": "markdown",
      "metadata": {
        "id": "CFborb1ptp2n"
      },
      "source": [
        "$\\forall x \\in X, \\quad \\exists y \\leq \\epsilon$"
      ]
    },
    {
      "cell_type": "markdown",
      "metadata": {
        "id": "z0dlTz2Hu4dF"
      },
      "source": [
        "\n",
        "$ \\alpha, \\Alpha, \\beta, \\Beta, \\gamma, \\Gamma, \\pi, \\Pi, \\phi, \\varphi, \\mu, \\Phi $"
      ]
    },
    {
      "cell_type": "markdown",
      "metadata": {
        "id": "4tmRSLQivFwS"
      },
      "source": [
        "$ \n",
        "\\cos (2\\theta) = \\cos^2 \\theta - \\sin^2 \\theta $"
      ]
    },
    {
      "cell_type": "markdown",
      "metadata": {
        "id": "s6GlyRLYvFuM"
      },
      "source": [
        "$ \\lim\\limits_{x \\to \\infty} \\exp(-x) = 0 $"
      ]
    },
    {
      "cell_type": "markdown",
      "metadata": {
        "id": "Ir7FsL78vFr8"
      },
      "source": [
        "$ \n",
        "k_{n+1} = n^2 + k_n^2 - k_{n-1} $"
      ]
    },
    {
      "cell_type": "markdown",
      "metadata": {
        "id": "lia-ScWwvFnU"
      },
      "source": [
        "$ n^{22} $"
      ]
    },
    {
      "cell_type": "markdown",
      "metadata": {
        "id": "Z6KU1cU4vFlU"
      },
      "source": [
        "$ \n",
        "f(n) = n^5 + 4n^2 + 2 |_{n=17} $"
      ]
    },
    {
      "cell_type": "markdown",
      "metadata": {
        "id": "PLo5pAvFvFjL"
      },
      "source": [
        "$ \n",
        "\\frac{n!}{k!(n-k)!} = \\binom{n}{k} $"
      ]
    },
    {
      "cell_type": "markdown",
      "metadata": {
        "id": "VD7h9iPtvR3V"
      },
      "source": [
        "$ \n",
        "\\frac{\\frac{1}{x}+\\frac{1}{y}}{y-z} $"
      ]
    },
    {
      "cell_type": "markdown",
      "metadata": {
        "id": "kE_Lz1kAvR5a"
      },
      "source": [
        "$ \n",
        "^3/_7 $"
      ]
    },
    {
      "cell_type": "markdown",
      "metadata": {
        "id": "mI26zlkhvR7r"
      },
      "source": [
        "Take ${}^1/_2$ cup of sugar, $ \\dots $\n",
        " \n",
        "  $ 3\\times{}^1/_2=1{}^1/_2 $"
      ]
    },
    {
      "cell_type": "markdown",
      "metadata": {
        "id": "-Yf_LggzvR9f"
      },
      "source": [
        "\n",
        "$x^\\frac{1}{2}$ "
      ]
    }
  ]
}