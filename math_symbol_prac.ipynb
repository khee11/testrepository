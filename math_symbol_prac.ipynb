{
  "nbformat": 4,
  "nbformat_minor": 0,
  "metadata": {
    "colab": {
      "name": "math_symbol_prac.ipynb",
      "provenance": [],
      "authorship_tag": "ABX9TyOnQEx7ZomqfB8JT2doFLbM",
      "include_colab_link": true
    },
    "kernelspec": {
      "name": "python3",
      "display_name": "Python 3"
    },
    "language_info": {
      "name": "python"
    }
  },
  "cells": [
    {
      "cell_type": "markdown",
      "metadata": {
        "id": "view-in-github",
        "colab_type": "text"
      },
      "source": [
        "<a href=\"https://colab.research.google.com/github/khee11/testrepository/blob/main/math_symbol_prac.ipynb\" target=\"_parent\"><img src=\"https://colab.research.google.com/assets/colab-badge.svg\" alt=\"Open In Colab\"/></a>"
      ]
    },
    {
      "cell_type": "markdown",
      "metadata": {
        "id": "d6pae6nYr-21"
      },
      "source": [
        "## 수학 기호 연습\n",
        "\n",
        "수식 기호들을 집어 넣는 연습을 해봅시다. $\\theta = 1$  \n",
        "$1 \\le 5 $  \n",
        "$\\sum_{i=1}^{n} i^2 $\n"
      ]
    },
    {
      "cell_type": "markdown",
      "metadata": {
        "id": "hVMfBRb9s09n"
      },
      "source": [
        "$$\n",
        "$\\sum_{i=1}^{n} i^2 $\n",
        "$$"
      ]
    },
    {
      "cell_type": "markdown",
      "metadata": {
        "id": "CFborb1ptp2n"
      },
      "source": [
        "$\\forall x \\in X, \\quad \\exists y \\leq \\epsilon$"
      ]
    },
    {
      "cell_type": "markdown",
      "metadata": {
        "id": "z0dlTz2Hu4dF"
      },
      "source": [
        "\n",
        "$ \\alpha, \\Alpha, \\beta, \\Beta, \\gamma, \\Gamma, \\pi, \\Pi, \\phi, \\varphi, \\mu, \\Phi $"
      ]
    },
    {
      "cell_type": "markdown",
      "metadata": {
        "id": "4tmRSLQivFwS"
      },
      "source": [
        "$ \n",
        "\\cos (2\\theta) = \\cos^2 \\theta - \\sin^2 \\theta $"
      ]
    },
    {
      "cell_type": "markdown",
      "metadata": {
        "id": "s6GlyRLYvFuM"
      },
      "source": [
        "$ \\lim\\limits_{x \\to \\infty} \\exp(-x) = 0 $"
      ]
    },
    {
      "cell_type": "markdown",
      "metadata": {
        "id": "Ir7FsL78vFr8"
      },
      "source": [
        "$ \n",
        "k_{n+1} = n^2 + k_n^2 - k_{n-1} $"
      ]
    },
    {
      "cell_type": "markdown",
      "metadata": {
        "id": "lia-ScWwvFnU"
      },
      "source": [
        "$ n^{22} $"
      ]
    },
    {
      "cell_type": "markdown",
      "metadata": {
        "id": "Z6KU1cU4vFlU"
      },
      "source": [
        "$ \n",
        "f(n) = n^5 + 4n^2 + 2 |_{n=17} $"
      ]
    },
    {
      "cell_type": "markdown",
      "metadata": {
        "id": "PLo5pAvFvFjL"
      },
      "source": [
        "$ \n",
        "\\frac{n!}{k!(n-k)!} = \\binom{n}{k} $"
      ]
    },
    {
      "cell_type": "markdown",
      "metadata": {
        "id": "VD7h9iPtvR3V"
      },
      "source": [
        "$ \n",
        "\\frac{\\frac{1}{x}+\\frac{1}{y}}{y-z} $"
      ]
    },
    {
      "cell_type": "markdown",
      "metadata": {
        "id": "kE_Lz1kAvR5a"
      },
      "source": [
        "$ \n",
        "^3/_7 $"
      ]
    },
    {
      "cell_type": "markdown",
      "metadata": {
        "id": "mI26zlkhvR7r"
      },
      "source": [
        "Take ${}^1/_2$ cup of sugar, $ \\dots $\n",
        " \n",
        "  $ 3\\times{}^1/_2=1{}^1/_2 $"
      ]
    },
    {
      "cell_type": "markdown",
      "metadata": {
        "id": "-Yf_LggzvR9f"
      },
      "source": [
        "\n",
        "$x^\\frac{1}{2}$ "
      ]
    },
    {
      "cell_type": "markdown",
      "metadata": {
        "id": "2beDYL87o_C3"
      },
      "source": [
        "## 위키 - LaTeX Mathematics\n",
        "  > https://en.wikibooks.org/wiki/LaTeX/Mathematics"
      ]
    },
    {
      "cell_type": "markdown",
      "metadata": {
        "id": "DKlxSCooo_Im"
      },
      "source": [
        "### Symbols (기호)\n",
        "\n",
        "    + - = ! / ( ) [ ] < > | ' : *   \n",
        "    => 그대로 사용  \n",
        "\n",
        "$\\forall x \\in X, \\quad \\exists y \\leq \\epsilon$  \n",
        "\n",
        "    $\\forall x \\in X, \\quad \\exists y \\leq \\epsilon$\n",
        "\n",
        "$\\forall y \\ni Y, \\quad \\exists z \\geq \\epsilon$\n",
        "\n",
        "    $\\forall y \\ni Y, \\quad \\exists z \\geq \\epsilon$"
      ]
    },
    {
      "cell_type": "markdown",
      "metadata": {
        "id": "JRx28gbXt3o2"
      },
      "source": [
        "### Greek Letters (그리스 문자)\n",
        "\n",
        "$\\alpha, \\Alpha, \\beta, \\Beta, \\gamma, \\Gamma, \\pi, \\Pi, \\phi, \\varphi, \\mu, \\Phi$  \n",
        "\n",
        "(일부는 LeTeX에서 제공x. 예)Alpha는 A, Beta는 B.)\n",
        "\n",
        "    $\\alpha, \\Alpha, \\beta, \\Beta, \\gamma, \\Gamma, \\pi, \\Pi, \\phi, \\varphi, \\mu, \\Phi$\n",
        "\n"
      ]
    },
    {
      "cell_type": "markdown",
      "metadata": {
        "id": "ipb_YTmkxhm8"
      },
      "source": [
        "### Operators (연산자)\n",
        "\n",
        "$\\cos (2\\theta) = \\cos^2 \\theta - \\sin^2 \\theta$\n",
        "\n",
        "    $\\cos (2\\theta) = \\cos^2 \\theta - \\sin^2 \\theta$\n",
        "\n",
        "$\\lim\\limits_{x \\to \\infty} \\exp(-x) = 0$\n",
        "\n",
        "    \\lim\\limits_{x \\to \\infty} \\exp(-x) = 0\n",
        "\n",
        "$a \\bmod b$\n",
        "\n",
        "    $a \\bmod b$\n",
        "\n",
        "$x \\equiv a \\pmod{b}$\n",
        "\n",
        "    $x \\equiv a \\pmod{b}$\n"
      ]
    },
    {
      "cell_type": "markdown",
      "metadata": {
        "id": "hxbVma8zyUvM"
      },
      "source": [
        "### Powers and indices (거듭제곱과 지수)\n",
        "\n",
        "$k_{n+1} = n^2 + k_n^2 - k_{n-1}$  \n",
        "(아래첨자는 _)\n",
        "\n",
        "    $k_{n+1} = n^2 + k_n^2 - k_{n-1}$\n",
        "\n",
        "$n^{22}$  \n",
        "(위첨자는 ^)\n",
        "\n",
        "    $n^{22}$\n",
        "\n",
        "$f(n) = n^5 + 4n^2 + 2 |_{n=17}$  \n",
        "(함수정의)\n",
        "\n",
        "    $f(n) = n^5 + 4n^2 + 2 |_{n=17}$"
      ]
    },
    {
      "cell_type": "markdown",
      "metadata": {
        "id": "LFSJgKdVyVCT"
      },
      "source": [
        "### Fractions and Binomials (분수와 이항)\n",
        "\n",
        "$\\frac{n!}{k!(n-k)!} = \\binom{n}{k}$  \n",
        "(**중요** : frac{분자}{분모} 형태는 많이 쓰임)\n",
        "\n",
        "    $\\frac{n!}{k!(n-k)!} = \\binom{n}{k}$\n",
        "\n",
        "$\\frac{\\frac{1}{x}+\\frac{1}{y}}{y-z}$\n",
        "\n",
        "    $\\frac{\\frac{1}{x}+\\frac{1}{y}}{y-z}$\n",
        "\n",
        "$^3/_7$  \n",
        "(상대적으로 간단한 분수의 경우 이렇게 표시할 수 있음)\n",
        "\n",
        "    $^3/_7$  "
      ]
    },
    {
      "cell_type": "markdown",
      "metadata": {
        "id": "8dNoQhityVES"
      },
      "source": [
        "### Roots (루트)\n",
        "\n",
        "$\\sqrt{\\frac{a}{b}}$\n",
        "\n",
        "    $\\sqrt{\\frac{a}{b}}$\n",
        "\n",
        "$\\sqrt[n]{1+x+x^2+x^3+\\dots+x^n}$\n",
        "\n",
        "    $\\sqrt[n]{1+x+x^2+x^3+\\dots+x^n}$"
      ]
    },
    {
      "cell_type": "markdown",
      "metadata": {
        "id": "MyRJ-pPdyVGX"
      },
      "source": [
        "### Sums and Integrals (합과 적분)\n",
        "\n",
        "$\\sum_{i=1}^{10} t_i$\n",
        "\n",
        "    $\\sum_{i=1}^{10} t_i$\n",
        "\n",
        "$\\displaystyle\\sum_{i=1}^{10} t_i$\n",
        "\n",
        "    $\\displaystyle\\sum_{i=1}^{10} t_i$\n",
        "\n",
        "$\\int_0^\\infty \\mathrm{e}^{-x}\\,\\mathrm{d}x$\n",
        "\n",
        "    $\\int_0^\\infty \\mathrm{e}^{-x}\\,\\mathrm{d}x$\n",
        "    "
      ]
    },
    {
      "cell_type": "markdown",
      "metadata": {
        "id": "ikrjUCdZyVH5"
      },
      "source": [
        ""
      ]
    }
  ]
}