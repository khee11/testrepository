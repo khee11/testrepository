{
  "nbformat": 4,
  "nbformat_minor": 0,
  "metadata": {
    "colab": {
      "name": "math_symbol_prac.ipynb",
      "provenance": [],
      "authorship_tag": "ABX9TyMUPPdRRvcacXkZyNp41t5j",
      "include_colab_link": true
    },
    "kernelspec": {
      "name": "python3",
      "display_name": "Python 3"
    },
    "language_info": {
      "name": "python"
    }
  },
  "cells": [
    {
      "cell_type": "markdown",
      "metadata": {
        "id": "view-in-github",
        "colab_type": "text"
      },
      "source": [
        "<a href=\"https://colab.research.google.com/github/khee11/testrepository/blob/main/math_symbol_prac.ipynb\" target=\"_parent\"><img src=\"https://colab.research.google.com/assets/colab-badge.svg\" alt=\"Open In Colab\"/></a>"
      ]
    },
    {
      "cell_type": "markdown",
      "metadata": {
        "id": "d6pae6nYr-21"
      },
      "source": [
        "## 수학 기호 연습\n",
        "\n",
        "수식 기호들을 집어 넣는 연습을 해봅시다. $\\theta = 1$ $1 \\le 5 $  \n",
        "$\\sum_{i=1}^{n} i^2 $\n"
      ]
    },
    {
      "cell_type": "markdown",
      "metadata": {
        "id": "hVMfBRb9s09n"
      },
      "source": [
        "$$\n",
        "$\\sum_{i=1}^{n} i^2 $\n",
        "$$"
      ]
    },
    {
      "cell_type": "code",
      "metadata": {
        "id": "-IbNL6uhr9vb"
      },
      "source": [
        ""
      ],
      "execution_count": null,
      "outputs": []
    },
    {
      "cell_type": "code",
      "metadata": {
        "id": "58X0H_k3r9r-"
      },
      "source": [
        ""
      ],
      "execution_count": null,
      "outputs": []
    }
  ]
}