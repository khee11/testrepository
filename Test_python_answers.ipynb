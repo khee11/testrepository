{
  "nbformat": 4,
  "nbformat_minor": 0,
  "metadata": {
    "kernelspec": {
      "display_name": "Python 3",
      "language": "python",
      "name": "python3"
    },
    "language_info": {
      "codemirror_mode": {
        "name": "ipython",
        "version": 3
      },
      "file_extension": ".py",
      "mimetype": "text/x-python",
      "name": "python",
      "nbconvert_exporter": "python",
      "pygments_lexer": "ipython3",
      "version": "3.6.0"
    },
    "colab": {
      "name": "Test_python_answers.ipynb",
      "provenance": [],
      "collapsed_sections": [
        "10zvzzCS34X0",
        "VFEfUL-o5v6J",
        "btjzQxXn6JOg"
      ],
      "include_colab_link": true
    }
  },
  "cells": [
    {
      "cell_type": "markdown",
      "metadata": {
        "id": "view-in-github",
        "colab_type": "text"
      },
      "source": [
        "<a href=\"https://colab.research.google.com/github/khee11/testrepository/blob/main/Test_python_answers.ipynb\" target=\"_parent\"><img src=\"https://colab.research.google.com/assets/colab-badge.svg\" alt=\"Open In Colab\"/></a>"
      ]
    },
    {
      "cell_type": "markdown",
      "metadata": {
        "id": "SzxMysYrMQeu"
      },
      "source": [
        "먼저 본 문제지를 본인의 google drive 에 저장한 후 연습을 수행하세요.\n",
        "\n",
        "File -> Save a copy in drive\n"
      ]
    },
    {
      "cell_type": "markdown",
      "metadata": {
        "id": "BEVQhTuMGKCR"
      },
      "source": [
        "## Pre-test, Python\n",
        "\n",
        "구글드라이브 연동 후 아래의 repository 를 google drive 에서 clone 해두세요. "
      ]
    },
    {
      "cell_type": "code",
      "metadata": {
        "id": "SY2hVzoEHPYy"
      },
      "source": [
        "import pandas as pd\n",
        "import numpy as np"
      ],
      "execution_count": 1,
      "outputs": []
    },
    {
      "cell_type": "code",
      "metadata": {
        "colab": {
          "base_uri": "https://localhost:8080/"
        },
        "id": "gSWBv3X8GYJh",
        "outputId": "5fdf8a32-0583-443a-8780-8b2a32f392bd"
      },
      "source": [
        "from google.colab import drive\n",
        "drive.mount('/content/drive')"
      ],
      "execution_count": 3,
      "outputs": [
        {
          "output_type": "stream",
          "name": "stdout",
          "text": [
            "Mounted at /content/drive\n"
          ]
        }
      ]
    },
    {
      "cell_type": "code",
      "metadata": {
        "colab": {
          "base_uri": "https://localhost:8080/"
        },
        "id": "JMGkb4ccGiBH",
        "outputId": "28e4c292-5763-4476-f8a2-6af5bc6a636d"
      },
      "source": [
        "cd /content/drive/MyDrive/"
      ],
      "execution_count": 4,
      "outputs": [
        {
          "output_type": "stream",
          "name": "stdout",
          "text": [
            "/content/drive/MyDrive\n"
          ]
        }
      ]
    },
    {
      "cell_type": "code",
      "metadata": {
        "id": "8b5EwZybF591",
        "colab": {
          "base_uri": "https://localhost:8080/"
        },
        "outputId": "c7feadba-18f1-4127-b154-474186f02133"
      },
      "source": [
        "!git clone https://github.com/wesm/pydata-book.git"
      ],
      "execution_count": 7,
      "outputs": [
        {
          "output_type": "stream",
          "name": "stdout",
          "text": [
            "fatal: destination path 'pydata-book' already exists and is not an empty directory.\n"
          ]
        }
      ]
    },
    {
      "cell_type": "code",
      "metadata": {
        "colab": {
          "base_uri": "https://localhost:8080/"
        },
        "id": "ZLnyoWlmGS1Z",
        "outputId": "802e1ad0-e117-4563-ef2b-d133b0699c91"
      },
      "source": [
        "cd pydata-book"
      ],
      "execution_count": 8,
      "outputs": [
        {
          "output_type": "stream",
          "name": "stdout",
          "text": [
            "/content/drive/MyDrive/pydata-book\n"
          ]
        }
      ]
    },
    {
      "cell_type": "markdown",
      "metadata": {
        "id": "3s2gxGES2D81"
      },
      "source": [
        "### 테스트 데이터는 미국 신생아 이름 데이터입니다. \n",
        "\n",
        "파일들을 확인해보면 아래와 같습니다."
      ]
    },
    {
      "cell_type": "code",
      "metadata": {
        "id": "6hi8kD8B1-QO",
        "colab": {
          "base_uri": "https://localhost:8080/"
        },
        "outputId": "69478ea3-5459-4938-96b0-42c0a9a2b4be"
      },
      "source": [
        "ls datasets/babynames"
      ],
      "execution_count": 9,
      "outputs": [
        {
          "output_type": "stream",
          "name": "stdout",
          "text": [
            "NationalReadMe.pdf  yob1906.txt  yob1933.txt  yob1960.txt  yob1987.txt\n",
            "yob1880.txt         yob1907.txt  yob1934.txt  yob1961.txt  yob1988.txt\n",
            "yob1881.txt         yob1908.txt  yob1935.txt  yob1962.txt  yob1989.txt\n",
            "yob1882.txt         yob1909.txt  yob1936.txt  yob1963.txt  yob1990.txt\n",
            "yob1883.txt         yob1910.txt  yob1937.txt  yob1964.txt  yob1991.txt\n",
            "yob1884.txt         yob1911.txt  yob1938.txt  yob1965.txt  yob1992.txt\n",
            "yob1885.txt         yob1912.txt  yob1939.txt  yob1966.txt  yob1993.txt\n",
            "yob1886.txt         yob1913.txt  yob1940.txt  yob1967.txt  yob1994.txt\n",
            "yob1887.txt         yob1914.txt  yob1941.txt  yob1968.txt  yob1995.txt\n",
            "yob1888.txt         yob1915.txt  yob1942.txt  yob1969.txt  yob1996.txt\n",
            "yob1889.txt         yob1916.txt  yob1943.txt  yob1970.txt  yob1997.txt\n",
            "yob1890.txt         yob1917.txt  yob1944.txt  yob1971.txt  yob1998.txt\n",
            "yob1891.txt         yob1918.txt  yob1945.txt  yob1972.txt  yob1999.txt\n",
            "yob1892.txt         yob1919.txt  yob1946.txt  yob1973.txt  yob2000.txt\n",
            "yob1893.txt         yob1920.txt  yob1947.txt  yob1974.txt  yob2001.txt\n",
            "yob1894.txt         yob1921.txt  yob1948.txt  yob1975.txt  yob2002.txt\n",
            "yob1895.txt         yob1922.txt  yob1949.txt  yob1976.txt  yob2003.txt\n",
            "yob1896.txt         yob1923.txt  yob1950.txt  yob1977.txt  yob2004.txt\n",
            "yob1897.txt         yob1924.txt  yob1951.txt  yob1978.txt  yob2005.txt\n",
            "yob1898.txt         yob1925.txt  yob1952.txt  yob1979.txt  yob2006.txt\n",
            "yob1899.txt         yob1926.txt  yob1953.txt  yob1980.txt  yob2007.txt\n",
            "yob1900.txt         yob1927.txt  yob1954.txt  yob1981.txt  yob2008.txt\n",
            "yob1901.txt         yob1928.txt  yob1955.txt  yob1982.txt  yob2009.txt\n",
            "yob1902.txt         yob1929.txt  yob1956.txt  yob1983.txt  yob2010.txt\n",
            "yob1903.txt         yob1930.txt  yob1957.txt  yob1984.txt\n",
            "yob1904.txt         yob1931.txt  yob1958.txt  yob1985.txt\n",
            "yob1905.txt         yob1932.txt  yob1959.txt  yob1986.txt\n"
          ]
        }
      ]
    },
    {
      "cell_type": "markdown",
      "metadata": {
        "id": "1eSvD5rV11F4"
      },
      "source": [
        "### Q1. 폴더로부터 1880년도부터 2011년도 데이터를 읽어 하나의 통합데이터로 만들어보세요."
      ]
    },
    {
      "cell_type": "code",
      "metadata": {
        "deletable": true,
        "editable": true,
        "id": "4577Cq_r1ARm"
      },
      "source": [
        "years = range(1880, 2011)\n",
        "\n",
        "pieces = []\n",
        "columns = ['name', 'sex', 'births']\n",
        "\n",
        "for year in years:\n",
        "    path = 'datasets/babynames/yob%d.txt' % year\n",
        "    frame = pd.read_csv(path, names=columns)\n",
        "\n",
        "    frame['year'] = year\n",
        "    pieces.append(frame)\n",
        "\n",
        "# Concatenate everything into a single DataFrame\n",
        "names = pd.concat(pieces, ignore_index=True)"
      ],
      "execution_count": 10,
      "outputs": []
    },
    {
      "cell_type": "code",
      "metadata": {
        "deletable": true,
        "editable": true,
        "id": "GFrW6TpW1ARn",
        "colab": {
          "base_uri": "https://localhost:8080/",
          "height": 206
        },
        "outputId": "4a24f0cb-dcea-48e2-9dac-5299d6aeb3f6"
      },
      "source": [
        "names.head()"
      ],
      "execution_count": 11,
      "outputs": [
        {
          "output_type": "execute_result",
          "data": {
            "text/html": [
              "\n",
              "  <div id=\"df-68b79a25-4bc5-417b-bc53-a5e038353b96\">\n",
              "    <div class=\"colab-df-container\">\n",
              "      <div>\n",
              "<style scoped>\n",
              "    .dataframe tbody tr th:only-of-type {\n",
              "        vertical-align: middle;\n",
              "    }\n",
              "\n",
              "    .dataframe tbody tr th {\n",
              "        vertical-align: top;\n",
              "    }\n",
              "\n",
              "    .dataframe thead th {\n",
              "        text-align: right;\n",
              "    }\n",
              "</style>\n",
              "<table border=\"1\" class=\"dataframe\">\n",
              "  <thead>\n",
              "    <tr style=\"text-align: right;\">\n",
              "      <th></th>\n",
              "      <th>name</th>\n",
              "      <th>sex</th>\n",
              "      <th>births</th>\n",
              "      <th>year</th>\n",
              "    </tr>\n",
              "  </thead>\n",
              "  <tbody>\n",
              "    <tr>\n",
              "      <th>0</th>\n",
              "      <td>Mary</td>\n",
              "      <td>F</td>\n",
              "      <td>7065</td>\n",
              "      <td>1880</td>\n",
              "    </tr>\n",
              "    <tr>\n",
              "      <th>1</th>\n",
              "      <td>Anna</td>\n",
              "      <td>F</td>\n",
              "      <td>2604</td>\n",
              "      <td>1880</td>\n",
              "    </tr>\n",
              "    <tr>\n",
              "      <th>2</th>\n",
              "      <td>Emma</td>\n",
              "      <td>F</td>\n",
              "      <td>2003</td>\n",
              "      <td>1880</td>\n",
              "    </tr>\n",
              "    <tr>\n",
              "      <th>3</th>\n",
              "      <td>Elizabeth</td>\n",
              "      <td>F</td>\n",
              "      <td>1939</td>\n",
              "      <td>1880</td>\n",
              "    </tr>\n",
              "    <tr>\n",
              "      <th>4</th>\n",
              "      <td>Minnie</td>\n",
              "      <td>F</td>\n",
              "      <td>1746</td>\n",
              "      <td>1880</td>\n",
              "    </tr>\n",
              "  </tbody>\n",
              "</table>\n",
              "</div>\n",
              "      <button class=\"colab-df-convert\" onclick=\"convertToInteractive('df-68b79a25-4bc5-417b-bc53-a5e038353b96')\"\n",
              "              title=\"Convert this dataframe to an interactive table.\"\n",
              "              style=\"display:none;\">\n",
              "        \n",
              "  <svg xmlns=\"http://www.w3.org/2000/svg\" height=\"24px\"viewBox=\"0 0 24 24\"\n",
              "       width=\"24px\">\n",
              "    <path d=\"M0 0h24v24H0V0z\" fill=\"none\"/>\n",
              "    <path d=\"M18.56 5.44l.94 2.06.94-2.06 2.06-.94-2.06-.94-.94-2.06-.94 2.06-2.06.94zm-11 1L8.5 8.5l.94-2.06 2.06-.94-2.06-.94L8.5 2.5l-.94 2.06-2.06.94zm10 10l.94 2.06.94-2.06 2.06-.94-2.06-.94-.94-2.06-.94 2.06-2.06.94z\"/><path d=\"M17.41 7.96l-1.37-1.37c-.4-.4-.92-.59-1.43-.59-.52 0-1.04.2-1.43.59L10.3 9.45l-7.72 7.72c-.78.78-.78 2.05 0 2.83L4 21.41c.39.39.9.59 1.41.59.51 0 1.02-.2 1.41-.59l7.78-7.78 2.81-2.81c.8-.78.8-2.07 0-2.86zM5.41 20L4 18.59l7.72-7.72 1.47 1.35L5.41 20z\"/>\n",
              "  </svg>\n",
              "      </button>\n",
              "      \n",
              "  <style>\n",
              "    .colab-df-container {\n",
              "      display:flex;\n",
              "      flex-wrap:wrap;\n",
              "      gap: 12px;\n",
              "    }\n",
              "\n",
              "    .colab-df-convert {\n",
              "      background-color: #E8F0FE;\n",
              "      border: none;\n",
              "      border-radius: 50%;\n",
              "      cursor: pointer;\n",
              "      display: none;\n",
              "      fill: #1967D2;\n",
              "      height: 32px;\n",
              "      padding: 0 0 0 0;\n",
              "      width: 32px;\n",
              "    }\n",
              "\n",
              "    .colab-df-convert:hover {\n",
              "      background-color: #E2EBFA;\n",
              "      box-shadow: 0px 1px 2px rgba(60, 64, 67, 0.3), 0px 1px 3px 1px rgba(60, 64, 67, 0.15);\n",
              "      fill: #174EA6;\n",
              "    }\n",
              "\n",
              "    [theme=dark] .colab-df-convert {\n",
              "      background-color: #3B4455;\n",
              "      fill: #D2E3FC;\n",
              "    }\n",
              "\n",
              "    [theme=dark] .colab-df-convert:hover {\n",
              "      background-color: #434B5C;\n",
              "      box-shadow: 0px 1px 3px 1px rgba(0, 0, 0, 0.15);\n",
              "      filter: drop-shadow(0px 1px 2px rgba(0, 0, 0, 0.3));\n",
              "      fill: #FFFFFF;\n",
              "    }\n",
              "  </style>\n",
              "\n",
              "      <script>\n",
              "        const buttonEl =\n",
              "          document.querySelector('#df-68b79a25-4bc5-417b-bc53-a5e038353b96 button.colab-df-convert');\n",
              "        buttonEl.style.display =\n",
              "          google.colab.kernel.accessAllowed ? 'block' : 'none';\n",
              "\n",
              "        async function convertToInteractive(key) {\n",
              "          const element = document.querySelector('#df-68b79a25-4bc5-417b-bc53-a5e038353b96');\n",
              "          const dataTable =\n",
              "            await google.colab.kernel.invokeFunction('convertToInteractive',\n",
              "                                                     [key], {});\n",
              "          if (!dataTable) return;\n",
              "\n",
              "          const docLinkHtml = 'Like what you see? Visit the ' +\n",
              "            '<a target=\"_blank\" href=https://colab.research.google.com/notebooks/data_table.ipynb>data table notebook</a>'\n",
              "            + ' to learn more about interactive tables.';\n",
              "          element.innerHTML = '';\n",
              "          dataTable['output_type'] = 'display_data';\n",
              "          await google.colab.output.renderOutput(dataTable, element);\n",
              "          const docLink = document.createElement('div');\n",
              "          docLink.innerHTML = docLinkHtml;\n",
              "          element.appendChild(docLink);\n",
              "        }\n",
              "      </script>\n",
              "    </div>\n",
              "  </div>\n",
              "  "
            ],
            "text/plain": [
              "        name sex  births  year\n",
              "0       Mary   F    7065  1880\n",
              "1       Anna   F    2604  1880\n",
              "2       Emma   F    2003  1880\n",
              "3  Elizabeth   F    1939  1880\n",
              "4     Minnie   F    1746  1880"
            ]
          },
          "metadata": {},
          "execution_count": 11
        }
      ]
    },
    {
      "cell_type": "markdown",
      "metadata": {
        "id": "10zvzzCS34X0"
      },
      "source": [
        "### Q2. 1900 년도에 태어난 남자, 여자 이름 top 5개를 알려주세요.\n"
      ]
    },
    {
      "cell_type": "code",
      "metadata": {
        "id": "6FzYRw9m48hC"
      },
      "source": [
        "import numpy as np"
      ],
      "execution_count": 12,
      "outputs": []
    },
    {
      "cell_type": "code",
      "metadata": {
        "id": "aiZvsN3f46zl",
        "colab": {
          "base_uri": "https://localhost:8080/",
          "height": 206
        },
        "outputId": "65bcaeef-f92b-4394-e20e-ce4f46fbab42"
      },
      "source": [
        "names.loc[ np.array(names.year == 1900) & np.array(names.sex == 'F'),['name','sex','births']].nlargest(columns = 'births', n = 5)"
      ],
      "execution_count": 13,
      "outputs": [
        {
          "output_type": "execute_result",
          "data": {
            "text/html": [
              "\n",
              "  <div id=\"df-9c57c79f-97d0-481d-89e6-210a3be41f99\">\n",
              "    <div class=\"colab-df-container\">\n",
              "      <div>\n",
              "<style scoped>\n",
              "    .dataframe tbody tr th:only-of-type {\n",
              "        vertical-align: middle;\n",
              "    }\n",
              "\n",
              "    .dataframe tbody tr th {\n",
              "        vertical-align: top;\n",
              "    }\n",
              "\n",
              "    .dataframe thead th {\n",
              "        text-align: right;\n",
              "    }\n",
              "</style>\n",
              "<table border=\"1\" class=\"dataframe\">\n",
              "  <thead>\n",
              "    <tr style=\"text-align: right;\">\n",
              "      <th></th>\n",
              "      <th>name</th>\n",
              "      <th>sex</th>\n",
              "      <th>births</th>\n",
              "    </tr>\n",
              "  </thead>\n",
              "  <tbody>\n",
              "    <tr>\n",
              "      <th>52266</th>\n",
              "      <td>Mary</td>\n",
              "      <td>F</td>\n",
              "      <td>16710</td>\n",
              "    </tr>\n",
              "    <tr>\n",
              "      <th>52267</th>\n",
              "      <td>Helen</td>\n",
              "      <td>F</td>\n",
              "      <td>6343</td>\n",
              "    </tr>\n",
              "    <tr>\n",
              "      <th>52268</th>\n",
              "      <td>Anna</td>\n",
              "      <td>F</td>\n",
              "      <td>6115</td>\n",
              "    </tr>\n",
              "    <tr>\n",
              "      <th>52269</th>\n",
              "      <td>Margaret</td>\n",
              "      <td>F</td>\n",
              "      <td>5305</td>\n",
              "    </tr>\n",
              "    <tr>\n",
              "      <th>52270</th>\n",
              "      <td>Ruth</td>\n",
              "      <td>F</td>\n",
              "      <td>4765</td>\n",
              "    </tr>\n",
              "  </tbody>\n",
              "</table>\n",
              "</div>\n",
              "      <button class=\"colab-df-convert\" onclick=\"convertToInteractive('df-9c57c79f-97d0-481d-89e6-210a3be41f99')\"\n",
              "              title=\"Convert this dataframe to an interactive table.\"\n",
              "              style=\"display:none;\">\n",
              "        \n",
              "  <svg xmlns=\"http://www.w3.org/2000/svg\" height=\"24px\"viewBox=\"0 0 24 24\"\n",
              "       width=\"24px\">\n",
              "    <path d=\"M0 0h24v24H0V0z\" fill=\"none\"/>\n",
              "    <path d=\"M18.56 5.44l.94 2.06.94-2.06 2.06-.94-2.06-.94-.94-2.06-.94 2.06-2.06.94zm-11 1L8.5 8.5l.94-2.06 2.06-.94-2.06-.94L8.5 2.5l-.94 2.06-2.06.94zm10 10l.94 2.06.94-2.06 2.06-.94-2.06-.94-.94-2.06-.94 2.06-2.06.94z\"/><path d=\"M17.41 7.96l-1.37-1.37c-.4-.4-.92-.59-1.43-.59-.52 0-1.04.2-1.43.59L10.3 9.45l-7.72 7.72c-.78.78-.78 2.05 0 2.83L4 21.41c.39.39.9.59 1.41.59.51 0 1.02-.2 1.41-.59l7.78-7.78 2.81-2.81c.8-.78.8-2.07 0-2.86zM5.41 20L4 18.59l7.72-7.72 1.47 1.35L5.41 20z\"/>\n",
              "  </svg>\n",
              "      </button>\n",
              "      \n",
              "  <style>\n",
              "    .colab-df-container {\n",
              "      display:flex;\n",
              "      flex-wrap:wrap;\n",
              "      gap: 12px;\n",
              "    }\n",
              "\n",
              "    .colab-df-convert {\n",
              "      background-color: #E8F0FE;\n",
              "      border: none;\n",
              "      border-radius: 50%;\n",
              "      cursor: pointer;\n",
              "      display: none;\n",
              "      fill: #1967D2;\n",
              "      height: 32px;\n",
              "      padding: 0 0 0 0;\n",
              "      width: 32px;\n",
              "    }\n",
              "\n",
              "    .colab-df-convert:hover {\n",
              "      background-color: #E2EBFA;\n",
              "      box-shadow: 0px 1px 2px rgba(60, 64, 67, 0.3), 0px 1px 3px 1px rgba(60, 64, 67, 0.15);\n",
              "      fill: #174EA6;\n",
              "    }\n",
              "\n",
              "    [theme=dark] .colab-df-convert {\n",
              "      background-color: #3B4455;\n",
              "      fill: #D2E3FC;\n",
              "    }\n",
              "\n",
              "    [theme=dark] .colab-df-convert:hover {\n",
              "      background-color: #434B5C;\n",
              "      box-shadow: 0px 1px 3px 1px rgba(0, 0, 0, 0.15);\n",
              "      filter: drop-shadow(0px 1px 2px rgba(0, 0, 0, 0.3));\n",
              "      fill: #FFFFFF;\n",
              "    }\n",
              "  </style>\n",
              "\n",
              "      <script>\n",
              "        const buttonEl =\n",
              "          document.querySelector('#df-9c57c79f-97d0-481d-89e6-210a3be41f99 button.colab-df-convert');\n",
              "        buttonEl.style.display =\n",
              "          google.colab.kernel.accessAllowed ? 'block' : 'none';\n",
              "\n",
              "        async function convertToInteractive(key) {\n",
              "          const element = document.querySelector('#df-9c57c79f-97d0-481d-89e6-210a3be41f99');\n",
              "          const dataTable =\n",
              "            await google.colab.kernel.invokeFunction('convertToInteractive',\n",
              "                                                     [key], {});\n",
              "          if (!dataTable) return;\n",
              "\n",
              "          const docLinkHtml = 'Like what you see? Visit the ' +\n",
              "            '<a target=\"_blank\" href=https://colab.research.google.com/notebooks/data_table.ipynb>data table notebook</a>'\n",
              "            + ' to learn more about interactive tables.';\n",
              "          element.innerHTML = '';\n",
              "          dataTable['output_type'] = 'display_data';\n",
              "          await google.colab.output.renderOutput(dataTable, element);\n",
              "          const docLink = document.createElement('div');\n",
              "          docLink.innerHTML = docLinkHtml;\n",
              "          element.appendChild(docLink);\n",
              "        }\n",
              "      </script>\n",
              "    </div>\n",
              "  </div>\n",
              "  "
            ],
            "text/plain": [
              "           name sex  births\n",
              "52266      Mary   F   16710\n",
              "52267     Helen   F    6343\n",
              "52268      Anna   F    6115\n",
              "52269  Margaret   F    5305\n",
              "52270      Ruth   F    4765"
            ]
          },
          "metadata": {},
          "execution_count": 13
        }
      ]
    },
    {
      "cell_type": "code",
      "metadata": {
        "id": "8g4T1aLH5a31",
        "colab": {
          "base_uri": "https://localhost:8080/",
          "height": 206
        },
        "outputId": "d9a753f3-2c9b-499b-d21d-3f02942b7196"
      },
      "source": [
        "names.loc[ np.array(names.year == 1900) & np.array(names.sex == 'M'),['name','sex','births']].nlargest(columns = 'births', n = 5)"
      ],
      "execution_count": 14,
      "outputs": [
        {
          "output_type": "execute_result",
          "data": {
            "text/html": [
              "\n",
              "  <div id=\"df-24943aa0-3d26-428e-a1b0-e4e31daacfc7\">\n",
              "    <div class=\"colab-df-container\">\n",
              "      <div>\n",
              "<style scoped>\n",
              "    .dataframe tbody tr th:only-of-type {\n",
              "        vertical-align: middle;\n",
              "    }\n",
              "\n",
              "    .dataframe tbody tr th {\n",
              "        vertical-align: top;\n",
              "    }\n",
              "\n",
              "    .dataframe thead th {\n",
              "        text-align: right;\n",
              "    }\n",
              "</style>\n",
              "<table border=\"1\" class=\"dataframe\">\n",
              "  <thead>\n",
              "    <tr style=\"text-align: right;\">\n",
              "      <th></th>\n",
              "      <th>name</th>\n",
              "      <th>sex</th>\n",
              "      <th>births</th>\n",
              "    </tr>\n",
              "  </thead>\n",
              "  <tbody>\n",
              "    <tr>\n",
              "      <th>54492</th>\n",
              "      <td>John</td>\n",
              "      <td>M</td>\n",
              "      <td>9834</td>\n",
              "    </tr>\n",
              "    <tr>\n",
              "      <th>54493</th>\n",
              "      <td>William</td>\n",
              "      <td>M</td>\n",
              "      <td>8580</td>\n",
              "    </tr>\n",
              "    <tr>\n",
              "      <th>54494</th>\n",
              "      <td>James</td>\n",
              "      <td>M</td>\n",
              "      <td>7246</td>\n",
              "    </tr>\n",
              "    <tr>\n",
              "      <th>54495</th>\n",
              "      <td>George</td>\n",
              "      <td>M</td>\n",
              "      <td>5405</td>\n",
              "    </tr>\n",
              "    <tr>\n",
              "      <th>54496</th>\n",
              "      <td>Charles</td>\n",
              "      <td>M</td>\n",
              "      <td>4102</td>\n",
              "    </tr>\n",
              "  </tbody>\n",
              "</table>\n",
              "</div>\n",
              "      <button class=\"colab-df-convert\" onclick=\"convertToInteractive('df-24943aa0-3d26-428e-a1b0-e4e31daacfc7')\"\n",
              "              title=\"Convert this dataframe to an interactive table.\"\n",
              "              style=\"display:none;\">\n",
              "        \n",
              "  <svg xmlns=\"http://www.w3.org/2000/svg\" height=\"24px\"viewBox=\"0 0 24 24\"\n",
              "       width=\"24px\">\n",
              "    <path d=\"M0 0h24v24H0V0z\" fill=\"none\"/>\n",
              "    <path d=\"M18.56 5.44l.94 2.06.94-2.06 2.06-.94-2.06-.94-.94-2.06-.94 2.06-2.06.94zm-11 1L8.5 8.5l.94-2.06 2.06-.94-2.06-.94L8.5 2.5l-.94 2.06-2.06.94zm10 10l.94 2.06.94-2.06 2.06-.94-2.06-.94-.94-2.06-.94 2.06-2.06.94z\"/><path d=\"M17.41 7.96l-1.37-1.37c-.4-.4-.92-.59-1.43-.59-.52 0-1.04.2-1.43.59L10.3 9.45l-7.72 7.72c-.78.78-.78 2.05 0 2.83L4 21.41c.39.39.9.59 1.41.59.51 0 1.02-.2 1.41-.59l7.78-7.78 2.81-2.81c.8-.78.8-2.07 0-2.86zM5.41 20L4 18.59l7.72-7.72 1.47 1.35L5.41 20z\"/>\n",
              "  </svg>\n",
              "      </button>\n",
              "      \n",
              "  <style>\n",
              "    .colab-df-container {\n",
              "      display:flex;\n",
              "      flex-wrap:wrap;\n",
              "      gap: 12px;\n",
              "    }\n",
              "\n",
              "    .colab-df-convert {\n",
              "      background-color: #E8F0FE;\n",
              "      border: none;\n",
              "      border-radius: 50%;\n",
              "      cursor: pointer;\n",
              "      display: none;\n",
              "      fill: #1967D2;\n",
              "      height: 32px;\n",
              "      padding: 0 0 0 0;\n",
              "      width: 32px;\n",
              "    }\n",
              "\n",
              "    .colab-df-convert:hover {\n",
              "      background-color: #E2EBFA;\n",
              "      box-shadow: 0px 1px 2px rgba(60, 64, 67, 0.3), 0px 1px 3px 1px rgba(60, 64, 67, 0.15);\n",
              "      fill: #174EA6;\n",
              "    }\n",
              "\n",
              "    [theme=dark] .colab-df-convert {\n",
              "      background-color: #3B4455;\n",
              "      fill: #D2E3FC;\n",
              "    }\n",
              "\n",
              "    [theme=dark] .colab-df-convert:hover {\n",
              "      background-color: #434B5C;\n",
              "      box-shadow: 0px 1px 3px 1px rgba(0, 0, 0, 0.15);\n",
              "      filter: drop-shadow(0px 1px 2px rgba(0, 0, 0, 0.3));\n",
              "      fill: #FFFFFF;\n",
              "    }\n",
              "  </style>\n",
              "\n",
              "      <script>\n",
              "        const buttonEl =\n",
              "          document.querySelector('#df-24943aa0-3d26-428e-a1b0-e4e31daacfc7 button.colab-df-convert');\n",
              "        buttonEl.style.display =\n",
              "          google.colab.kernel.accessAllowed ? 'block' : 'none';\n",
              "\n",
              "        async function convertToInteractive(key) {\n",
              "          const element = document.querySelector('#df-24943aa0-3d26-428e-a1b0-e4e31daacfc7');\n",
              "          const dataTable =\n",
              "            await google.colab.kernel.invokeFunction('convertToInteractive',\n",
              "                                                     [key], {});\n",
              "          if (!dataTable) return;\n",
              "\n",
              "          const docLinkHtml = 'Like what you see? Visit the ' +\n",
              "            '<a target=\"_blank\" href=https://colab.research.google.com/notebooks/data_table.ipynb>data table notebook</a>'\n",
              "            + ' to learn more about interactive tables.';\n",
              "          element.innerHTML = '';\n",
              "          dataTable['output_type'] = 'display_data';\n",
              "          await google.colab.output.renderOutput(dataTable, element);\n",
              "          const docLink = document.createElement('div');\n",
              "          docLink.innerHTML = docLinkHtml;\n",
              "          element.appendChild(docLink);\n",
              "        }\n",
              "      </script>\n",
              "    </div>\n",
              "  </div>\n",
              "  "
            ],
            "text/plain": [
              "          name sex  births\n",
              "54492     John   M    9834\n",
              "54493  William   M    8580\n",
              "54494    James   M    7246\n",
              "54495   George   M    5405\n",
              "54496  Charles   M    4102"
            ]
          },
          "metadata": {},
          "execution_count": 14
        }
      ]
    },
    {
      "cell_type": "code",
      "metadata": {
        "id": "KsDD2eXQ4GWF",
        "colab": {
          "base_uri": "https://localhost:8080/",
          "height": 206
        },
        "outputId": "528b7d7f-bb0e-419b-ba69-2ac31d2276c3"
      },
      "source": [
        "names.loc[np.array(names.year == 1900) & np.array(names.sex == 'M'),['name','sex','births']].sort_values(by = 'births', ascending = False).head(5)\n"
      ],
      "execution_count": 15,
      "outputs": [
        {
          "output_type": "execute_result",
          "data": {
            "text/html": [
              "\n",
              "  <div id=\"df-1d918e18-fc9e-4da8-86b1-101034832260\">\n",
              "    <div class=\"colab-df-container\">\n",
              "      <div>\n",
              "<style scoped>\n",
              "    .dataframe tbody tr th:only-of-type {\n",
              "        vertical-align: middle;\n",
              "    }\n",
              "\n",
              "    .dataframe tbody tr th {\n",
              "        vertical-align: top;\n",
              "    }\n",
              "\n",
              "    .dataframe thead th {\n",
              "        text-align: right;\n",
              "    }\n",
              "</style>\n",
              "<table border=\"1\" class=\"dataframe\">\n",
              "  <thead>\n",
              "    <tr style=\"text-align: right;\">\n",
              "      <th></th>\n",
              "      <th>name</th>\n",
              "      <th>sex</th>\n",
              "      <th>births</th>\n",
              "    </tr>\n",
              "  </thead>\n",
              "  <tbody>\n",
              "    <tr>\n",
              "      <th>54492</th>\n",
              "      <td>John</td>\n",
              "      <td>M</td>\n",
              "      <td>9834</td>\n",
              "    </tr>\n",
              "    <tr>\n",
              "      <th>54493</th>\n",
              "      <td>William</td>\n",
              "      <td>M</td>\n",
              "      <td>8580</td>\n",
              "    </tr>\n",
              "    <tr>\n",
              "      <th>54494</th>\n",
              "      <td>James</td>\n",
              "      <td>M</td>\n",
              "      <td>7246</td>\n",
              "    </tr>\n",
              "    <tr>\n",
              "      <th>54495</th>\n",
              "      <td>George</td>\n",
              "      <td>M</td>\n",
              "      <td>5405</td>\n",
              "    </tr>\n",
              "    <tr>\n",
              "      <th>54496</th>\n",
              "      <td>Charles</td>\n",
              "      <td>M</td>\n",
              "      <td>4102</td>\n",
              "    </tr>\n",
              "  </tbody>\n",
              "</table>\n",
              "</div>\n",
              "      <button class=\"colab-df-convert\" onclick=\"convertToInteractive('df-1d918e18-fc9e-4da8-86b1-101034832260')\"\n",
              "              title=\"Convert this dataframe to an interactive table.\"\n",
              "              style=\"display:none;\">\n",
              "        \n",
              "  <svg xmlns=\"http://www.w3.org/2000/svg\" height=\"24px\"viewBox=\"0 0 24 24\"\n",
              "       width=\"24px\">\n",
              "    <path d=\"M0 0h24v24H0V0z\" fill=\"none\"/>\n",
              "    <path d=\"M18.56 5.44l.94 2.06.94-2.06 2.06-.94-2.06-.94-.94-2.06-.94 2.06-2.06.94zm-11 1L8.5 8.5l.94-2.06 2.06-.94-2.06-.94L8.5 2.5l-.94 2.06-2.06.94zm10 10l.94 2.06.94-2.06 2.06-.94-2.06-.94-.94-2.06-.94 2.06-2.06.94z\"/><path d=\"M17.41 7.96l-1.37-1.37c-.4-.4-.92-.59-1.43-.59-.52 0-1.04.2-1.43.59L10.3 9.45l-7.72 7.72c-.78.78-.78 2.05 0 2.83L4 21.41c.39.39.9.59 1.41.59.51 0 1.02-.2 1.41-.59l7.78-7.78 2.81-2.81c.8-.78.8-2.07 0-2.86zM5.41 20L4 18.59l7.72-7.72 1.47 1.35L5.41 20z\"/>\n",
              "  </svg>\n",
              "      </button>\n",
              "      \n",
              "  <style>\n",
              "    .colab-df-container {\n",
              "      display:flex;\n",
              "      flex-wrap:wrap;\n",
              "      gap: 12px;\n",
              "    }\n",
              "\n",
              "    .colab-df-convert {\n",
              "      background-color: #E8F0FE;\n",
              "      border: none;\n",
              "      border-radius: 50%;\n",
              "      cursor: pointer;\n",
              "      display: none;\n",
              "      fill: #1967D2;\n",
              "      height: 32px;\n",
              "      padding: 0 0 0 0;\n",
              "      width: 32px;\n",
              "    }\n",
              "\n",
              "    .colab-df-convert:hover {\n",
              "      background-color: #E2EBFA;\n",
              "      box-shadow: 0px 1px 2px rgba(60, 64, 67, 0.3), 0px 1px 3px 1px rgba(60, 64, 67, 0.15);\n",
              "      fill: #174EA6;\n",
              "    }\n",
              "\n",
              "    [theme=dark] .colab-df-convert {\n",
              "      background-color: #3B4455;\n",
              "      fill: #D2E3FC;\n",
              "    }\n",
              "\n",
              "    [theme=dark] .colab-df-convert:hover {\n",
              "      background-color: #434B5C;\n",
              "      box-shadow: 0px 1px 3px 1px rgba(0, 0, 0, 0.15);\n",
              "      filter: drop-shadow(0px 1px 2px rgba(0, 0, 0, 0.3));\n",
              "      fill: #FFFFFF;\n",
              "    }\n",
              "  </style>\n",
              "\n",
              "      <script>\n",
              "        const buttonEl =\n",
              "          document.querySelector('#df-1d918e18-fc9e-4da8-86b1-101034832260 button.colab-df-convert');\n",
              "        buttonEl.style.display =\n",
              "          google.colab.kernel.accessAllowed ? 'block' : 'none';\n",
              "\n",
              "        async function convertToInteractive(key) {\n",
              "          const element = document.querySelector('#df-1d918e18-fc9e-4da8-86b1-101034832260');\n",
              "          const dataTable =\n",
              "            await google.colab.kernel.invokeFunction('convertToInteractive',\n",
              "                                                     [key], {});\n",
              "          if (!dataTable) return;\n",
              "\n",
              "          const docLinkHtml = 'Like what you see? Visit the ' +\n",
              "            '<a target=\"_blank\" href=https://colab.research.google.com/notebooks/data_table.ipynb>data table notebook</a>'\n",
              "            + ' to learn more about interactive tables.';\n",
              "          element.innerHTML = '';\n",
              "          dataTable['output_type'] = 'display_data';\n",
              "          await google.colab.output.renderOutput(dataTable, element);\n",
              "          const docLink = document.createElement('div');\n",
              "          docLink.innerHTML = docLinkHtml;\n",
              "          element.appendChild(docLink);\n",
              "        }\n",
              "      </script>\n",
              "    </div>\n",
              "  </div>\n",
              "  "
            ],
            "text/plain": [
              "          name sex  births\n",
              "54492     John   M    9834\n",
              "54493  William   M    8580\n",
              "54494    James   M    7246\n",
              "54495   George   M    5405\n",
              "54496  Charles   M    4102"
            ]
          },
          "metadata": {},
          "execution_count": 15
        }
      ]
    },
    {
      "cell_type": "markdown",
      "metadata": {
        "id": "VFEfUL-o5v6J"
      },
      "source": [
        "### Q3. 연도별 태어난 남여 인구수를 비교하는 그래프를 그려보세요"
      ]
    },
    {
      "cell_type": "code",
      "metadata": {
        "colab": {
          "base_uri": "https://localhost:8080/",
          "height": 455
        },
        "id": "2rfzi_APpEFW",
        "outputId": "39ebc8b8-3ea9-4901-b389-c2db3b354dc9"
      },
      "source": [
        "names.pivot_table('births', index='year',\n",
        "                                 columns='sex', aggfunc=sum)"
      ],
      "execution_count": null,
      "outputs": [
        {
          "output_type": "execute_result",
          "data": {
            "text/html": [
              "<div>\n",
              "<style scoped>\n",
              "    .dataframe tbody tr th:only-of-type {\n",
              "        vertical-align: middle;\n",
              "    }\n",
              "\n",
              "    .dataframe tbody tr th {\n",
              "        vertical-align: top;\n",
              "    }\n",
              "\n",
              "    .dataframe thead th {\n",
              "        text-align: right;\n",
              "    }\n",
              "</style>\n",
              "<table border=\"1\" class=\"dataframe\">\n",
              "  <thead>\n",
              "    <tr style=\"text-align: right;\">\n",
              "      <th>sex</th>\n",
              "      <th>F</th>\n",
              "      <th>M</th>\n",
              "    </tr>\n",
              "    <tr>\n",
              "      <th>year</th>\n",
              "      <th></th>\n",
              "      <th></th>\n",
              "    </tr>\n",
              "  </thead>\n",
              "  <tbody>\n",
              "    <tr>\n",
              "      <th>1880</th>\n",
              "      <td>90993</td>\n",
              "      <td>110493</td>\n",
              "    </tr>\n",
              "    <tr>\n",
              "      <th>1881</th>\n",
              "      <td>91955</td>\n",
              "      <td>100748</td>\n",
              "    </tr>\n",
              "    <tr>\n",
              "      <th>1882</th>\n",
              "      <td>107851</td>\n",
              "      <td>113687</td>\n",
              "    </tr>\n",
              "    <tr>\n",
              "      <th>1883</th>\n",
              "      <td>112322</td>\n",
              "      <td>104632</td>\n",
              "    </tr>\n",
              "    <tr>\n",
              "      <th>1884</th>\n",
              "      <td>129021</td>\n",
              "      <td>114445</td>\n",
              "    </tr>\n",
              "    <tr>\n",
              "      <th>...</th>\n",
              "      <td>...</td>\n",
              "      <td>...</td>\n",
              "    </tr>\n",
              "    <tr>\n",
              "      <th>2006</th>\n",
              "      <td>1896468</td>\n",
              "      <td>2050234</td>\n",
              "    </tr>\n",
              "    <tr>\n",
              "      <th>2007</th>\n",
              "      <td>1916888</td>\n",
              "      <td>2069242</td>\n",
              "    </tr>\n",
              "    <tr>\n",
              "      <th>2008</th>\n",
              "      <td>1883645</td>\n",
              "      <td>2032310</td>\n",
              "    </tr>\n",
              "    <tr>\n",
              "      <th>2009</th>\n",
              "      <td>1827643</td>\n",
              "      <td>1973359</td>\n",
              "    </tr>\n",
              "    <tr>\n",
              "      <th>2010</th>\n",
              "      <td>1759010</td>\n",
              "      <td>1898382</td>\n",
              "    </tr>\n",
              "  </tbody>\n",
              "</table>\n",
              "<p>131 rows × 2 columns</p>\n",
              "</div>"
            ],
            "text/plain": [
              "sex         F        M\n",
              "year                  \n",
              "1880    90993   110493\n",
              "1881    91955   100748\n",
              "1882   107851   113687\n",
              "1883   112322   104632\n",
              "1884   129021   114445\n",
              "...       ...      ...\n",
              "2006  1896468  2050234\n",
              "2007  1916888  2069242\n",
              "2008  1883645  2032310\n",
              "2009  1827643  1973359\n",
              "2010  1759010  1898382\n",
              "\n",
              "[131 rows x 2 columns]"
            ]
          },
          "metadata": {},
          "execution_count": 7
        }
      ]
    },
    {
      "cell_type": "code",
      "metadata": {
        "deletable": true,
        "editable": true,
        "id": "vfkkKmRd1ARn",
        "colab": {
          "base_uri": "https://localhost:8080/",
          "height": 313
        },
        "outputId": "eab048d1-d067-4fd9-bc3e-941aa1658a7a"
      },
      "source": [
        "total_births = names.pivot_table('births', index='year',\n",
        "                                 columns='sex', aggfunc=sum)\n",
        "total_births.tail()\n",
        "total_births.plot(title='Total births by sex and year')"
      ],
      "execution_count": null,
      "outputs": [
        {
          "output_type": "execute_result",
          "data": {
            "text/plain": [
              "<matplotlib.axes._subplots.AxesSubplot at 0x7f9f0f3e7e50>"
            ]
          },
          "metadata": {},
          "execution_count": 8
        },
        {
          "output_type": "display_data",
          "data": {
            "image/png": "[encoded data removed]",
            "text/plain": [
              "<Figure size 432x288 with 1 Axes>"
            ]
          },
          "metadata": {
            "needs_background": "light"
          }
        }
      ]
    },
    {
      "cell_type": "markdown",
      "metadata": {
        "id": "btjzQxXn6JOg"
      },
      "source": [
        "### Q4. 주어진 성별의 이름에 대해서 태어난 아동 수의 line 플롯을 그려주는 함수를 작성하세요. \n",
        "  - 하나의 이름만 받아서 line style 은 파란색의 실선으로 그려주는 함수를 작성하세요.  \n",
        "  - 여러 이름을 입력받아서 subplot으로 각 이름들 별로 그림을 그리는 함수를 만들어보세요. line style 은 각 subplot 별로 달라도 좋습니다."
      ]
    },
    {
      "cell_type": "code",
      "metadata": {
        "colab": {
          "base_uri": "https://localhost:8080/",
          "height": 424
        },
        "id": "Iih_8sooplAF",
        "outputId": "926df767-c7a8-4450-d7d3-9ce7e23f08c1"
      },
      "source": [
        "names.loc[names.name==\"John\"].loc[names.sex==\"M\"]"
      ],
      "execution_count": 16,
      "outputs": [
        {
          "output_type": "execute_result",
          "data": {
            "text/html": [
              "\n",
              "  <div id=\"df-6fc7f0ea-19c6-4a89-a4f3-10f4860f5d9a\">\n",
              "    <div class=\"colab-df-container\">\n",
              "      <div>\n",
              "<style scoped>\n",
              "    .dataframe tbody tr th:only-of-type {\n",
              "        vertical-align: middle;\n",
              "    }\n",
              "\n",
              "    .dataframe tbody tr th {\n",
              "        vertical-align: top;\n",
              "    }\n",
              "\n",
              "    .dataframe thead th {\n",
              "        text-align: right;\n",
              "    }\n",
              "</style>\n",
              "<table border=\"1\" class=\"dataframe\">\n",
              "  <thead>\n",
              "    <tr style=\"text-align: right;\">\n",
              "      <th></th>\n",
              "      <th>name</th>\n",
              "      <th>sex</th>\n",
              "      <th>births</th>\n",
              "      <th>year</th>\n",
              "    </tr>\n",
              "  </thead>\n",
              "  <tbody>\n",
              "    <tr>\n",
              "      <th>942</th>\n",
              "      <td>John</td>\n",
              "      <td>M</td>\n",
              "      <td>9655</td>\n",
              "      <td>1880</td>\n",
              "    </tr>\n",
              "    <tr>\n",
              "      <th>2938</th>\n",
              "      <td>John</td>\n",
              "      <td>M</td>\n",
              "      <td>8769</td>\n",
              "      <td>1881</td>\n",
              "    </tr>\n",
              "    <tr>\n",
              "      <th>4963</th>\n",
              "      <td>John</td>\n",
              "      <td>M</td>\n",
              "      <td>9557</td>\n",
              "      <td>1882</td>\n",
              "    </tr>\n",
              "    <tr>\n",
              "      <th>7116</th>\n",
              "      <td>John</td>\n",
              "      <td>M</td>\n",
              "      <td>8894</td>\n",
              "      <td>1883</td>\n",
              "    </tr>\n",
              "    <tr>\n",
              "      <th>9318</th>\n",
              "      <td>John</td>\n",
              "      <td>M</td>\n",
              "      <td>9387</td>\n",
              "      <td>1884</td>\n",
              "    </tr>\n",
              "    <tr>\n",
              "      <th>...</th>\n",
              "      <td>...</td>\n",
              "      <td>...</td>\n",
              "      <td>...</td>\n",
              "      <td>...</td>\n",
              "    </tr>\n",
              "    <tr>\n",
              "      <th>1538462</th>\n",
              "      <td>John</td>\n",
              "      <td>M</td>\n",
              "      <td>15140</td>\n",
              "      <td>2006</td>\n",
              "    </tr>\n",
              "    <tr>\n",
              "      <th>1572993</th>\n",
              "      <td>John</td>\n",
              "      <td>M</td>\n",
              "      <td>14405</td>\n",
              "      <td>2007</td>\n",
              "    </tr>\n",
              "    <tr>\n",
              "      <th>1607773</th>\n",
              "      <td>John</td>\n",
              "      <td>M</td>\n",
              "      <td>13273</td>\n",
              "      <td>2008</td>\n",
              "    </tr>\n",
              "    <tr>\n",
              "      <th>1642493</th>\n",
              "      <td>John</td>\n",
              "      <td>M</td>\n",
              "      <td>12048</td>\n",
              "      <td>2009</td>\n",
              "    </tr>\n",
              "    <tr>\n",
              "      <th>1676669</th>\n",
              "      <td>John</td>\n",
              "      <td>M</td>\n",
              "      <td>11424</td>\n",
              "      <td>2010</td>\n",
              "    </tr>\n",
              "  </tbody>\n",
              "</table>\n",
              "<p>131 rows × 4 columns</p>\n",
              "</div>\n",
              "      <button class=\"colab-df-convert\" onclick=\"convertToInteractive('df-6fc7f0ea-19c6-4a89-a4f3-10f4860f5d9a')\"\n",
              "              title=\"Convert this dataframe to an interactive table.\"\n",
              "              style=\"display:none;\">\n",
              "        \n",
              "  <svg xmlns=\"http://www.w3.org/2000/svg\" height=\"24px\"viewBox=\"0 0 24 24\"\n",
              "       width=\"24px\">\n",
              "    <path d=\"M0 0h24v24H0V0z\" fill=\"none\"/>\n",
              "    <path d=\"M18.56 5.44l.94 2.06.94-2.06 2.06-.94-2.06-.94-.94-2.06-.94 2.06-2.06.94zm-11 1L8.5 8.5l.94-2.06 2.06-.94-2.06-.94L8.5 2.5l-.94 2.06-2.06.94zm10 10l.94 2.06.94-2.06 2.06-.94-2.06-.94-.94-2.06-.94 2.06-2.06.94z\"/><path d=\"M17.41 7.96l-1.37-1.37c-.4-.4-.92-.59-1.43-.59-.52 0-1.04.2-1.43.59L10.3 9.45l-7.72 7.72c-.78.78-.78 2.05 0 2.83L4 21.41c.39.39.9.59 1.41.59.51 0 1.02-.2 1.41-.59l7.78-7.78 2.81-2.81c.8-.78.8-2.07 0-2.86zM5.41 20L4 18.59l7.72-7.72 1.47 1.35L5.41 20z\"/>\n",
              "  </svg>\n",
              "      </button>\n",
              "      \n",
              "  <style>\n",
              "    .colab-df-container {\n",
              "      display:flex;\n",
              "      flex-wrap:wrap;\n",
              "      gap: 12px;\n",
              "    }\n",
              "\n",
              "    .colab-df-convert {\n",
              "      background-color: #E8F0FE;\n",
              "      border: none;\n",
              "      border-radius: 50%;\n",
              "      cursor: pointer;\n",
              "      display: none;\n",
              "      fill: #1967D2;\n",
              "      height: 32px;\n",
              "      padding: 0 0 0 0;\n",
              "      width: 32px;\n",
              "    }\n",
              "\n",
              "    .colab-df-convert:hover {\n",
              "      background-color: #E2EBFA;\n",
              "      box-shadow: 0px 1px 2px rgba(60, 64, 67, 0.3), 0px 1px 3px 1px rgba(60, 64, 67, 0.15);\n",
              "      fill: #174EA6;\n",
              "    }\n",
              "\n",
              "    [theme=dark] .colab-df-convert {\n",
              "      background-color: #3B4455;\n",
              "      fill: #D2E3FC;\n",
              "    }\n",
              "\n",
              "    [theme=dark] .colab-df-convert:hover {\n",
              "      background-color: #434B5C;\n",
              "      box-shadow: 0px 1px 3px 1px rgba(0, 0, 0, 0.15);\n",
              "      filter: drop-shadow(0px 1px 2px rgba(0, 0, 0, 0.3));\n",
              "      fill: #FFFFFF;\n",
              "    }\n",
              "  </style>\n",
              "\n",
              "      <script>\n",
              "        const buttonEl =\n",
              "          document.querySelector('#df-6fc7f0ea-19c6-4a89-a4f3-10f4860f5d9a button.colab-df-convert');\n",
              "        buttonEl.style.display =\n",
              "          google.colab.kernel.accessAllowed ? 'block' : 'none';\n",
              "\n",
              "        async function convertToInteractive(key) {\n",
              "          const element = document.querySelector('#df-6fc7f0ea-19c6-4a89-a4f3-10f4860f5d9a');\n",
              "          const dataTable =\n",
              "            await google.colab.kernel.invokeFunction('convertToInteractive',\n",
              "                                                     [key], {});\n",
              "          if (!dataTable) return;\n",
              "\n",
              "          const docLinkHtml = 'Like what you see? Visit the ' +\n",
              "            '<a target=\"_blank\" href=https://colab.research.google.com/notebooks/data_table.ipynb>data table notebook</a>'\n",
              "            + ' to learn more about interactive tables.';\n",
              "          element.innerHTML = '';\n",
              "          dataTable['output_type'] = 'display_data';\n",
              "          await google.colab.output.renderOutput(dataTable, element);\n",
              "          const docLink = document.createElement('div');\n",
              "          docLink.innerHTML = docLinkHtml;\n",
              "          element.appendChild(docLink);\n",
              "        }\n",
              "      </script>\n",
              "    </div>\n",
              "  </div>\n",
              "  "
            ],
            "text/plain": [
              "         name sex  births  year\n",
              "942      John   M    9655  1880\n",
              "2938     John   M    8769  1881\n",
              "4963     John   M    9557  1882\n",
              "7116     John   M    8894  1883\n",
              "9318     John   M    9387  1884\n",
              "...       ...  ..     ...   ...\n",
              "1538462  John   M   15140  2006\n",
              "1572993  John   M   14405  2007\n",
              "1607773  John   M   13273  2008\n",
              "1642493  John   M   12048  2009\n",
              "1676669  John   M   11424  2010\n",
              "\n",
              "[131 rows x 4 columns]"
            ]
          },
          "metadata": {},
          "execution_count": 16
        }
      ]
    },
    {
      "cell_type": "code",
      "metadata": {
        "id": "hs9cxPGH6Itt",
        "colab": {
          "base_uri": "https://localhost:8080/",
          "height": 296
        },
        "outputId": "32c07a46-5633-40f7-e5aa-e330b66a323a"
      },
      "source": [
        "names.loc[names.name==\"John\"].loc[names.sex==\"M\"].plot(kind = \"line\", y = \"births\",style = \"-b\")"
      ],
      "execution_count": 17,
      "outputs": [
        {
          "output_type": "execute_result",
          "data": {
            "text/plain": [
              "<matplotlib.axes._subplots.AxesSubplot at 0x7f3335e30950>"
            ]
          },
          "metadata": {},
          "execution_count": 17
        },
        {
          "output_type": "display_data",
          "data": {
            "image/png": "[encoded data removed]",
            "text/plain": [
              "<Figure size 432x288 with 1 Axes>"
            ]
          },
          "metadata": {
            "needs_background": "light"
          }
        }
      ]
    },
    {
      "cell_type": "code",
      "metadata": {
        "id": "A0hDUGXc75MO",
        "colab": {
          "base_uri": "https://localhost:8080/",
          "height": 278
        },
        "outputId": "d84ce1e1-5d4d-49c7-e9d2-06ad27dbb6e1"
      },
      "source": [
        "def plotnm(nm, sx) :\n",
        "  names.loc[names.name==nm].loc[names.sex==sx].plot(kind = \"line\", y = \"births\",style = \"-b\")\n",
        "\n",
        "plotnm(\"John\", \"M\")"
      ],
      "execution_count": 18,
      "outputs": [
        {
          "output_type": "display_data",
          "data": {
            "image/png": "[encoded data removed]",
            "text/plain": [
              "<Figure size 432x288 with 1 Axes>"
            ]
          },
          "metadata": {
            "needs_background": "light"
          }
        }
      ]
    },
    {
      "cell_type": "code",
      "metadata": {
        "id": "tn-Zyhmm8E3U",
        "colab": {
          "base_uri": "https://localhost:8080/",
          "height": 278
        },
        "outputId": "80742bd1-7a24-4371-e124-db4d63256fc1"
      },
      "source": [
        "plotnm(\"Andrew\", \"M\")"
      ],
      "execution_count": 19,
      "outputs": [
        {
          "output_type": "display_data",
          "data": {
            "image/png": "[encoded data removed]",
            "text/plain": [
              "<Figure size 432x288 with 1 Axes>"
            ]
          },
          "metadata": {
            "needs_background": "light"
          }
        }
      ]
    },
    {
      "cell_type": "code",
      "metadata": {
        "colab": {
          "base_uri": "https://localhost:8080/",
          "height": 455
        },
        "id": "YeS8mzEVp6v0",
        "outputId": "e328423f-5636-4b12-93d1-c2d959224710"
      },
      "source": [
        "nms = [\"Karl\", \"John\"]\n",
        "names.loc[names.name.isin(nms)].loc[names.sex==\"M\"].pivot(index = 'year', columns = 'name', values = 'births')"
      ],
      "execution_count": 20,
      "outputs": [
        {
          "output_type": "execute_result",
          "data": {
            "text/html": [
              "\n",
              "  <div id=\"df-9a4e3583-1d4d-4cea-a340-d26755b7e1f2\">\n",
              "    <div class=\"colab-df-container\">\n",
              "      <div>\n",
              "<style scoped>\n",
              "    .dataframe tbody tr th:only-of-type {\n",
              "        vertical-align: middle;\n",
              "    }\n",
              "\n",
              "    .dataframe tbody tr th {\n",
              "        vertical-align: top;\n",
              "    }\n",
              "\n",
              "    .dataframe thead th {\n",
              "        text-align: right;\n",
              "    }\n",
              "</style>\n",
              "<table border=\"1\" class=\"dataframe\">\n",
              "  <thead>\n",
              "    <tr style=\"text-align: right;\">\n",
              "      <th>name</th>\n",
              "      <th>John</th>\n",
              "      <th>Karl</th>\n",
              "    </tr>\n",
              "    <tr>\n",
              "      <th>year</th>\n",
              "      <th></th>\n",
              "      <th></th>\n",
              "    </tr>\n",
              "  </thead>\n",
              "  <tbody>\n",
              "    <tr>\n",
              "      <th>1880</th>\n",
              "      <td>9655</td>\n",
              "      <td>21</td>\n",
              "    </tr>\n",
              "    <tr>\n",
              "      <th>1881</th>\n",
              "      <td>8769</td>\n",
              "      <td>29</td>\n",
              "    </tr>\n",
              "    <tr>\n",
              "      <th>1882</th>\n",
              "      <td>9557</td>\n",
              "      <td>40</td>\n",
              "    </tr>\n",
              "    <tr>\n",
              "      <th>1883</th>\n",
              "      <td>8894</td>\n",
              "      <td>33</td>\n",
              "    </tr>\n",
              "    <tr>\n",
              "      <th>1884</th>\n",
              "      <td>9387</td>\n",
              "      <td>34</td>\n",
              "    </tr>\n",
              "    <tr>\n",
              "      <th>...</th>\n",
              "      <td>...</td>\n",
              "      <td>...</td>\n",
              "    </tr>\n",
              "    <tr>\n",
              "      <th>2006</th>\n",
              "      <td>15140</td>\n",
              "      <td>270</td>\n",
              "    </tr>\n",
              "    <tr>\n",
              "      <th>2007</th>\n",
              "      <td>14405</td>\n",
              "      <td>242</td>\n",
              "    </tr>\n",
              "    <tr>\n",
              "      <th>2008</th>\n",
              "      <td>13273</td>\n",
              "      <td>188</td>\n",
              "    </tr>\n",
              "    <tr>\n",
              "      <th>2009</th>\n",
              "      <td>12048</td>\n",
              "      <td>207</td>\n",
              "    </tr>\n",
              "    <tr>\n",
              "      <th>2010</th>\n",
              "      <td>11424</td>\n",
              "      <td>177</td>\n",
              "    </tr>\n",
              "  </tbody>\n",
              "</table>\n",
              "<p>131 rows × 2 columns</p>\n",
              "</div>\n",
              "      <button class=\"colab-df-convert\" onclick=\"convertToInteractive('df-9a4e3583-1d4d-4cea-a340-d26755b7e1f2')\"\n",
              "              title=\"Convert this dataframe to an interactive table.\"\n",
              "              style=\"display:none;\">\n",
              "        \n",
              "  <svg xmlns=\"http://www.w3.org/2000/svg\" height=\"24px\"viewBox=\"0 0 24 24\"\n",
              "       width=\"24px\">\n",
              "    <path d=\"M0 0h24v24H0V0z\" fill=\"none\"/>\n",
              "    <path d=\"M18.56 5.44l.94 2.06.94-2.06 2.06-.94-2.06-.94-.94-2.06-.94 2.06-2.06.94zm-11 1L8.5 8.5l.94-2.06 2.06-.94-2.06-.94L8.5 2.5l-.94 2.06-2.06.94zm10 10l.94 2.06.94-2.06 2.06-.94-2.06-.94-.94-2.06-.94 2.06-2.06.94z\"/><path d=\"M17.41 7.96l-1.37-1.37c-.4-.4-.92-.59-1.43-.59-.52 0-1.04.2-1.43.59L10.3 9.45l-7.72 7.72c-.78.78-.78 2.05 0 2.83L4 21.41c.39.39.9.59 1.41.59.51 0 1.02-.2 1.41-.59l7.78-7.78 2.81-2.81c.8-.78.8-2.07 0-2.86zM5.41 20L4 18.59l7.72-7.72 1.47 1.35L5.41 20z\"/>\n",
              "  </svg>\n",
              "      </button>\n",
              "      \n",
              "  <style>\n",
              "    .colab-df-container {\n",
              "      display:flex;\n",
              "      flex-wrap:wrap;\n",
              "      gap: 12px;\n",
              "    }\n",
              "\n",
              "    .colab-df-convert {\n",
              "      background-color: #E8F0FE;\n",
              "      border: none;\n",
              "      border-radius: 50%;\n",
              "      cursor: pointer;\n",
              "      display: none;\n",
              "      fill: #1967D2;\n",
              "      height: 32px;\n",
              "      padding: 0 0 0 0;\n",
              "      width: 32px;\n",
              "    }\n",
              "\n",
              "    .colab-df-convert:hover {\n",
              "      background-color: #E2EBFA;\n",
              "      box-shadow: 0px 1px 2px rgba(60, 64, 67, 0.3), 0px 1px 3px 1px rgba(60, 64, 67, 0.15);\n",
              "      fill: #174EA6;\n",
              "    }\n",
              "\n",
              "    [theme=dark] .colab-df-convert {\n",
              "      background-color: #3B4455;\n",
              "      fill: #D2E3FC;\n",
              "    }\n",
              "\n",
              "    [theme=dark] .colab-df-convert:hover {\n",
              "      background-color: #434B5C;\n",
              "      box-shadow: 0px 1px 3px 1px rgba(0, 0, 0, 0.15);\n",
              "      filter: drop-shadow(0px 1px 2px rgba(0, 0, 0, 0.3));\n",
              "      fill: #FFFFFF;\n",
              "    }\n",
              "  </style>\n",
              "\n",
              "      <script>\n",
              "        const buttonEl =\n",
              "          document.querySelector('#df-9a4e3583-1d4d-4cea-a340-d26755b7e1f2 button.colab-df-convert');\n",
              "        buttonEl.style.display =\n",
              "          google.colab.kernel.accessAllowed ? 'block' : 'none';\n",
              "\n",
              "        async function convertToInteractive(key) {\n",
              "          const element = document.querySelector('#df-9a4e3583-1d4d-4cea-a340-d26755b7e1f2');\n",
              "          const dataTable =\n",
              "            await google.colab.kernel.invokeFunction('convertToInteractive',\n",
              "                                                     [key], {});\n",
              "          if (!dataTable) return;\n",
              "\n",
              "          const docLinkHtml = 'Like what you see? Visit the ' +\n",
              "            '<a target=\"_blank\" href=https://colab.research.google.com/notebooks/data_table.ipynb>data table notebook</a>'\n",
              "            + ' to learn more about interactive tables.';\n",
              "          element.innerHTML = '';\n",
              "          dataTable['output_type'] = 'display_data';\n",
              "          await google.colab.output.renderOutput(dataTable, element);\n",
              "          const docLink = document.createElement('div');\n",
              "          docLink.innerHTML = docLinkHtml;\n",
              "          element.appendChild(docLink);\n",
              "        }\n",
              "      </script>\n",
              "    </div>\n",
              "  </div>\n",
              "  "
            ],
            "text/plain": [
              "name   John  Karl\n",
              "year             \n",
              "1880   9655    21\n",
              "1881   8769    29\n",
              "1882   9557    40\n",
              "1883   8894    33\n",
              "1884   9387    34\n",
              "...     ...   ...\n",
              "2006  15140   270\n",
              "2007  14405   242\n",
              "2008  13273   188\n",
              "2009  12048   207\n",
              "2010  11424   177\n",
              "\n",
              "[131 rows x 2 columns]"
            ]
          },
          "metadata": {},
          "execution_count": 20
        }
      ]
    },
    {
      "cell_type": "code",
      "metadata": {
        "id": "MxmDmWIO9Sik",
        "colab": {
          "base_uri": "https://localhost:8080/",
          "height": 324
        },
        "outputId": "38d0be8c-28a6-490e-cf0e-4867641f80ec"
      },
      "source": [
        "nms = [\"Karl\", \"John\"]\n",
        "names.loc[names.name.isin(nms)].loc[names.sex==\"M\"].pivot(index = 'year', columns = 'name', values = 'births').plot(kind = \"line\", subplots=True)"
      ],
      "execution_count": 21,
      "outputs": [
        {
          "output_type": "execute_result",
          "data": {
            "text/plain": [
              "array([<matplotlib.axes._subplots.AxesSubplot object at 0x7f33357d83d0>,\n",
              "       <matplotlib.axes._subplots.AxesSubplot object at 0x7f333579a890>],\n",
              "      dtype=object)"
            ]
          },
          "metadata": {},
          "execution_count": 21
        },
        {
          "output_type": "display_data",
          "data": {
            "image/png": "[encoded data removed]",
            "text/plain": [
              "<Figure size 432x288 with 2 Axes>"
            ]
          },
          "metadata": {
            "needs_background": "light"
          }
        }
      ]
    },
    {
      "cell_type": "code",
      "metadata": {
        "id": "er4cJXzQ-yba"
      },
      "source": [
        "def plotnms(nms, sx) :\n",
        "  names.loc[names.name.isin(nms)].loc[names.sex==sx].pivot(index = 'year', columns = 'name', values = 'births').plot(kind = \"line\", subplots=True)\n"
      ],
      "execution_count": 22,
      "outputs": []
    },
    {
      "cell_type": "code",
      "source": [
        "nms = [\"John\", \"Karl\"]\n",
        "names.loc[names.name.isin(nms)].loc[names.sex==\"M\"].pivot(index = 'year', columns = 'name', values = 'births').plot(kind = \"line\", subplots=True)"
      ],
      "metadata": {
        "id": "rdmlrCb7trF0",
        "outputId": "f6d64b91-c3b1-4914-b3be-be13b6c03ac4",
        "colab": {
          "base_uri": "https://localhost:8080/",
          "height": 324
        }
      },
      "execution_count": 28,
      "outputs": [
        {
          "output_type": "execute_result",
          "data": {
            "text/plain": [
              "array([<matplotlib.axes._subplots.AxesSubplot object at 0x7f3330d90990>,\n",
              "       <matplotlib.axes._subplots.AxesSubplot object at 0x7f3330ac3690>],\n",
              "      dtype=object)"
            ]
          },
          "metadata": {},
          "execution_count": 28
        },
        {
          "output_type": "display_data",
          "data": {
            "image/png": "[encoded data removed]",
            "text/plain": [
              "<Figure size 432x288 with 2 Axes>"
            ]
          },
          "metadata": {
            "needs_background": "light"
          }
        }
      ]
    },
    {
      "cell_type": "code",
      "metadata": {
        "id": "M_eGhe4N8UFi",
        "colab": {
          "base_uri": "https://localhost:8080/",
          "height": 269
        },
        "outputId": "cbd6350a-1f13-4ccf-eb70-2a840d4dac46"
      },
      "source": [
        "nms = [\"Karl\", \"John\", \"James\"]\n",
        "plotnms(nms, sx = \"M\")"
      ],
      "execution_count": 23,
      "outputs": [
        {
          "output_type": "display_data",
          "data": {
            "image/png": "[encoded data removed]",
            "text/plain": [
              "<Figure size 432x288 with 3 Axes>"
            ]
          },
          "metadata": {
            "needs_background": "light"
          }
        }
      ]
    },
    {
      "cell_type": "markdown",
      "metadata": {
        "id": "-iKtnGcYAIoe"
      },
      "source": [
        "### Q5. 남자 여자 이름 모두 쓰이는 이름을 찾아서 연도별 패턴을 시각화 해 보고자 합니다. 아래의 절차를 수행하세요.\n",
        "\n",
        " - 1900 년도에 1000개이상 쓰인 이름들을 추려보세요.\n",
        " - 추려진 data의 이름들에 대해서 value_conts 함수를 썼을 때 2 가 나오는 이름들은 남, 여 모두에서 1000회 이상 쓰인 이름입니다. \n",
        " - 앞에서 확인한 이름으로 남자 여자별로 연도별 이름사용횟수를 그려주는 시각화를 수행해보세요.\n",
        " - 해당 그래플를 해석해서 story를 설명해보세요"
      ]
    },
    {
      "cell_type": "code",
      "metadata": {
        "id": "RqbHLsU7AoU0",
        "colab": {
          "base_uri": "https://localhost:8080/",
          "height": 423
        },
        "outputId": "b3d2efa0-fda5-48fb-9c97-21673235e02e"
      },
      "source": [
        "names.loc[names.year == 1900].loc[names.births>1000]"
      ],
      "execution_count": null,
      "outputs": [
        {
          "output_type": "execute_result",
          "data": {
            "text/html": [
              "<div>\n",
              "<style scoped>\n",
              "    .dataframe tbody tr th:only-of-type {\n",
              "        vertical-align: middle;\n",
              "    }\n",
              "\n",
              "    .dataframe tbody tr th {\n",
              "        vertical-align: top;\n",
              "    }\n",
              "\n",
              "    .dataframe thead th {\n",
              "        text-align: right;\n",
              "    }\n",
              "</style>\n",
              "<table border=\"1\" class=\"dataframe\">\n",
              "  <thead>\n",
              "    <tr style=\"text-align: right;\">\n",
              "      <th></th>\n",
              "      <th>name</th>\n",
              "      <th>sex</th>\n",
              "      <th>births</th>\n",
              "      <th>year</th>\n",
              "    </tr>\n",
              "  </thead>\n",
              "  <tbody>\n",
              "    <tr>\n",
              "      <th>52266</th>\n",
              "      <td>Mary</td>\n",
              "      <td>F</td>\n",
              "      <td>16710</td>\n",
              "      <td>1900</td>\n",
              "    </tr>\n",
              "    <tr>\n",
              "      <th>52267</th>\n",
              "      <td>Helen</td>\n",
              "      <td>F</td>\n",
              "      <td>6343</td>\n",
              "      <td>1900</td>\n",
              "    </tr>\n",
              "    <tr>\n",
              "      <th>52268</th>\n",
              "      <td>Anna</td>\n",
              "      <td>F</td>\n",
              "      <td>6115</td>\n",
              "      <td>1900</td>\n",
              "    </tr>\n",
              "    <tr>\n",
              "      <th>52269</th>\n",
              "      <td>Margaret</td>\n",
              "      <td>F</td>\n",
              "      <td>5305</td>\n",
              "      <td>1900</td>\n",
              "    </tr>\n",
              "    <tr>\n",
              "      <th>52270</th>\n",
              "      <td>Ruth</td>\n",
              "      <td>F</td>\n",
              "      <td>4765</td>\n",
              "      <td>1900</td>\n",
              "    </tr>\n",
              "    <tr>\n",
              "      <th>...</th>\n",
              "      <td>...</td>\n",
              "      <td>...</td>\n",
              "      <td>...</td>\n",
              "      <td>...</td>\n",
              "    </tr>\n",
              "    <tr>\n",
              "      <th>54517</th>\n",
              "      <td>Louis</td>\n",
              "      <td>M</td>\n",
              "      <td>1099</td>\n",
              "      <td>1900</td>\n",
              "    </tr>\n",
              "    <tr>\n",
              "      <th>54518</th>\n",
              "      <td>Jack</td>\n",
              "      <td>M</td>\n",
              "      <td>1053</td>\n",
              "      <td>1900</td>\n",
              "    </tr>\n",
              "    <tr>\n",
              "      <th>54519</th>\n",
              "      <td>Earl</td>\n",
              "      <td>M</td>\n",
              "      <td>1037</td>\n",
              "      <td>1900</td>\n",
              "    </tr>\n",
              "    <tr>\n",
              "      <th>54520</th>\n",
              "      <td>Carl</td>\n",
              "      <td>M</td>\n",
              "      <td>1016</td>\n",
              "      <td>1900</td>\n",
              "    </tr>\n",
              "    <tr>\n",
              "      <th>54521</th>\n",
              "      <td>Ernest</td>\n",
              "      <td>M</td>\n",
              "      <td>1012</td>\n",
              "      <td>1900</td>\n",
              "    </tr>\n",
              "  </tbody>\n",
              "</table>\n",
              "<p>107 rows × 4 columns</p>\n",
              "</div>"
            ],
            "text/plain": [
              "           name sex  births  year\n",
              "52266      Mary   F   16710  1900\n",
              "52267     Helen   F    6343  1900\n",
              "52268      Anna   F    6115  1900\n",
              "52269  Margaret   F    5305  1900\n",
              "52270      Ruth   F    4765  1900\n",
              "...         ...  ..     ...   ...\n",
              "54517     Louis   M    1099  1900\n",
              "54518      Jack   M    1053  1900\n",
              "54519      Earl   M    1037  1900\n",
              "54520      Carl   M    1016  1900\n",
              "54521    Ernest   M    1012  1900\n",
              "\n",
              "[107 rows x 4 columns]"
            ]
          },
          "metadata": {},
          "execution_count": 17
        }
      ]
    },
    {
      "cell_type": "code",
      "metadata": {
        "id": "7ApXzpO8BIRu",
        "colab": {
          "base_uri": "https://localhost:8080/"
        },
        "outputId": "6ce5038f-1eb8-4e8f-bdf4-81ed63b4678f"
      },
      "source": [
        "names.loc[names.year == 1900].loc[names.births>1000].name.value_counts()"
      ],
      "execution_count": null,
      "outputs": [
        {
          "output_type": "execute_result",
          "data": {
            "text/plain": [
              "Willie     2\n",
              "Jessie     1\n",
              "Dorothy    1\n",
              "Anna       1\n",
              "Mae        1\n",
              "          ..\n",
              "Gladys     1\n",
              "Richard    1\n",
              "Earl       1\n",
              "Harry      1\n",
              "Roy        1\n",
              "Name: name, Length: 106, dtype: int64"
            ]
          },
          "metadata": {},
          "execution_count": 7
        }
      ]
    },
    {
      "cell_type": "code",
      "source": [
        "nn = names.loc[names.year == 1900].loc[names.births>1000].name.value_counts()\n",
        "nn.loc[nn.values==2]"
      ],
      "metadata": {
        "id": "K-DffNxCu-80",
        "outputId": "5c53d592-d65e-4259-aecf-4b345869dc5b",
        "colab": {
          "base_uri": "https://localhost:8080/"
        }
      },
      "execution_count": 37,
      "outputs": [
        {
          "output_type": "execute_result",
          "data": {
            "text/plain": [
              "Willie    2\n",
              "Name: name, dtype: int64"
            ]
          },
          "metadata": {},
          "execution_count": 37
        }
      ]
    },
    {
      "cell_type": "code",
      "metadata": {
        "colab": {
          "base_uri": "https://localhost:8080/",
          "height": 423
        },
        "id": "VHZxtY6sHK6O",
        "outputId": "71f1bcde-ea93-4e01-fd9d-aec17dd02f6c"
      },
      "source": [
        "names.loc[names.name==\"Willie\"]"
      ],
      "execution_count": null,
      "outputs": [
        {
          "output_type": "execute_result",
          "data": {
            "text/html": [
              "<div>\n",
              "<style scoped>\n",
              "    .dataframe tbody tr th:only-of-type {\n",
              "        vertical-align: middle;\n",
              "    }\n",
              "\n",
              "    .dataframe tbody tr th {\n",
              "        vertical-align: top;\n",
              "    }\n",
              "\n",
              "    .dataframe thead th {\n",
              "        text-align: right;\n",
              "    }\n",
              "</style>\n",
              "<table border=\"1\" class=\"dataframe\">\n",
              "  <thead>\n",
              "    <tr style=\"text-align: right;\">\n",
              "      <th></th>\n",
              "      <th>name</th>\n",
              "      <th>sex</th>\n",
              "      <th>births</th>\n",
              "      <th>year</th>\n",
              "    </tr>\n",
              "  </thead>\n",
              "  <tbody>\n",
              "    <tr>\n",
              "      <th>104</th>\n",
              "      <td>Willie</td>\n",
              "      <td>F</td>\n",
              "      <td>192</td>\n",
              "      <td>1880</td>\n",
              "    </tr>\n",
              "    <tr>\n",
              "      <th>975</th>\n",
              "      <td>Willie</td>\n",
              "      <td>M</td>\n",
              "      <td>476</td>\n",
              "      <td>1880</td>\n",
              "    </tr>\n",
              "    <tr>\n",
              "      <th>2093</th>\n",
              "      <td>Willie</td>\n",
              "      <td>F</td>\n",
              "      <td>229</td>\n",
              "      <td>1881</td>\n",
              "    </tr>\n",
              "    <tr>\n",
              "      <th>2967</th>\n",
              "      <td>Willie</td>\n",
              "      <td>M</td>\n",
              "      <td>498</td>\n",
              "      <td>1881</td>\n",
              "    </tr>\n",
              "    <tr>\n",
              "      <th>4023</th>\n",
              "      <td>Willie</td>\n",
              "      <td>F</td>\n",
              "      <td>291</td>\n",
              "      <td>1882</td>\n",
              "    </tr>\n",
              "    <tr>\n",
              "      <th>...</th>\n",
              "      <td>...</td>\n",
              "      <td>...</td>\n",
              "      <td>...</td>\n",
              "      <td>...</td>\n",
              "    </tr>\n",
              "    <tr>\n",
              "      <th>1573521</th>\n",
              "      <td>Willie</td>\n",
              "      <td>M</td>\n",
              "      <td>469</td>\n",
              "      <td>2007</td>\n",
              "    </tr>\n",
              "    <tr>\n",
              "      <th>1608319</th>\n",
              "      <td>Willie</td>\n",
              "      <td>M</td>\n",
              "      <td>457</td>\n",
              "      <td>2008</td>\n",
              "    </tr>\n",
              "    <tr>\n",
              "      <th>1642336</th>\n",
              "      <td>Willie</td>\n",
              "      <td>F</td>\n",
              "      <td>5</td>\n",
              "      <td>2009</td>\n",
              "    </tr>\n",
              "    <tr>\n",
              "      <th>1643091</th>\n",
              "      <td>Willie</td>\n",
              "      <td>M</td>\n",
              "      <td>398</td>\n",
              "      <td>2009</td>\n",
              "    </tr>\n",
              "    <tr>\n",
              "      <th>1677275</th>\n",
              "      <td>Willie</td>\n",
              "      <td>M</td>\n",
              "      <td>380</td>\n",
              "      <td>2010</td>\n",
              "    </tr>\n",
              "  </tbody>\n",
              "</table>\n",
              "<p>253 rows × 4 columns</p>\n",
              "</div>"
            ],
            "text/plain": [
              "           name sex  births  year\n",
              "104      Willie   F     192  1880\n",
              "975      Willie   M     476  1880\n",
              "2093     Willie   F     229  1881\n",
              "2967     Willie   M     498  1881\n",
              "4023     Willie   F     291  1882\n",
              "...         ...  ..     ...   ...\n",
              "1573521  Willie   M     469  2007\n",
              "1608319  Willie   M     457  2008\n",
              "1642336  Willie   F       5  2009\n",
              "1643091  Willie   M     398  2009\n",
              "1677275  Willie   M     380  2010\n",
              "\n",
              "[253 rows x 4 columns]"
            ]
          },
          "metadata": {},
          "execution_count": 8
        }
      ]
    },
    {
      "cell_type": "code",
      "metadata": {
        "colab": {
          "base_uri": "https://localhost:8080/",
          "height": 455
        },
        "id": "C7MdjfEkq53E",
        "outputId": "c2676d3e-8f37-4789-87b7-08894c37efd9"
      },
      "source": [
        "names.loc[names.name==\"Willie\"].pivot(index = \"year\", columns = \"sex\", values = \"births\")"
      ],
      "execution_count": null,
      "outputs": [
        {
          "output_type": "execute_result",
          "data": {
            "text/html": [
              "<div>\n",
              "<style scoped>\n",
              "    .dataframe tbody tr th:only-of-type {\n",
              "        vertical-align: middle;\n",
              "    }\n",
              "\n",
              "    .dataframe tbody tr th {\n",
              "        vertical-align: top;\n",
              "    }\n",
              "\n",
              "    .dataframe thead th {\n",
              "        text-align: right;\n",
              "    }\n",
              "</style>\n",
              "<table border=\"1\" class=\"dataframe\">\n",
              "  <thead>\n",
              "    <tr style=\"text-align: right;\">\n",
              "      <th>sex</th>\n",
              "      <th>F</th>\n",
              "      <th>M</th>\n",
              "    </tr>\n",
              "    <tr>\n",
              "      <th>year</th>\n",
              "      <th></th>\n",
              "      <th></th>\n",
              "    </tr>\n",
              "  </thead>\n",
              "  <tbody>\n",
              "    <tr>\n",
              "      <th>1880</th>\n",
              "      <td>192.0</td>\n",
              "      <td>476.0</td>\n",
              "    </tr>\n",
              "    <tr>\n",
              "      <th>1881</th>\n",
              "      <td>229.0</td>\n",
              "      <td>498.0</td>\n",
              "    </tr>\n",
              "    <tr>\n",
              "      <th>1882</th>\n",
              "      <td>291.0</td>\n",
              "      <td>541.0</td>\n",
              "    </tr>\n",
              "    <tr>\n",
              "      <th>1883</th>\n",
              "      <td>264.0</td>\n",
              "      <td>474.0</td>\n",
              "    </tr>\n",
              "    <tr>\n",
              "      <th>1884</th>\n",
              "      <td>332.0</td>\n",
              "      <td>578.0</td>\n",
              "    </tr>\n",
              "    <tr>\n",
              "      <th>...</th>\n",
              "      <td>...</td>\n",
              "      <td>...</td>\n",
              "    </tr>\n",
              "    <tr>\n",
              "      <th>2006</th>\n",
              "      <td>NaN</td>\n",
              "      <td>503.0</td>\n",
              "    </tr>\n",
              "    <tr>\n",
              "      <th>2007</th>\n",
              "      <td>6.0</td>\n",
              "      <td>469.0</td>\n",
              "    </tr>\n",
              "    <tr>\n",
              "      <th>2008</th>\n",
              "      <td>NaN</td>\n",
              "      <td>457.0</td>\n",
              "    </tr>\n",
              "    <tr>\n",
              "      <th>2009</th>\n",
              "      <td>5.0</td>\n",
              "      <td>398.0</td>\n",
              "    </tr>\n",
              "    <tr>\n",
              "      <th>2010</th>\n",
              "      <td>NaN</td>\n",
              "      <td>380.0</td>\n",
              "    </tr>\n",
              "  </tbody>\n",
              "</table>\n",
              "<p>131 rows × 2 columns</p>\n",
              "</div>"
            ],
            "text/plain": [
              "sex       F      M\n",
              "year              \n",
              "1880  192.0  476.0\n",
              "1881  229.0  498.0\n",
              "1882  291.0  541.0\n",
              "1883  264.0  474.0\n",
              "1884  332.0  578.0\n",
              "...     ...    ...\n",
              "2006    NaN  503.0\n",
              "2007    6.0  469.0\n",
              "2008    NaN  457.0\n",
              "2009    5.0  398.0\n",
              "2010    NaN  380.0\n",
              "\n",
              "[131 rows x 2 columns]"
            ]
          },
          "metadata": {},
          "execution_count": 18
        }
      ]
    },
    {
      "cell_type": "code",
      "metadata": {
        "colab": {
          "base_uri": "https://localhost:8080/",
          "height": 297
        },
        "id": "Q9G0IBbUHk8j",
        "outputId": "9201dabf-e948-4223-e6c7-ee3486006586"
      },
      "source": [
        "names.loc[names.name==\"Willie\"].pivot(index = \"year\", columns = \"sex\", values = \"births\").fillna(0).plot(kind = \"line\")"
      ],
      "execution_count": null,
      "outputs": [
        {
          "output_type": "execute_result",
          "data": {
            "text/plain": [
              "<matplotlib.axes._subplots.AxesSubplot at 0x7f9f0f3facd0>"
            ]
          },
          "metadata": {},
          "execution_count": 19
        },
        {
          "output_type": "display_data",
          "data": {
            "image/png": "[encoded data removed]",
            "text/plain": [
              "<Figure size 432x288 with 1 Axes>"
            ]
          },
          "metadata": {
            "needs_background": "light"
          }
        }
      ]
    },
    {
      "cell_type": "code",
      "metadata": {
        "id": "BYYxsYRtq-qv"
      },
      "source": [
        ""
      ],
      "execution_count": null,
      "outputs": []
    }
  ]
}